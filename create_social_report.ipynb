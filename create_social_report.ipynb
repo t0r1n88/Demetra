{
 "cells": [
  {
   "cell_type": "code",
   "execution_count": 2128,
   "id": "9f8f4bac",
   "metadata": {},
   "outputs": [
    {
     "data": {
      "text/plain": [
       "'\\nСкрипт для создания отчета по форме БРИТ\\n'"
      ]
     },
     "execution_count": 2128,
     "metadata": {},
     "output_type": "execute_result"
    }
   ],
   "source": [
    "\"\"\"\n",
    "Скрипт для создания отчета по форме БРИТ\n",
    "\"\"\""
   ]
  },
  {
   "cell_type": "code",
   "execution_count": 2129,
   "id": "8f895b57",
   "metadata": {},
   "outputs": [],
   "source": [
    "import pandas as pd"
   ]
  },
  {
   "cell_type": "code",
   "execution_count": 2130,
   "id": "79c4013f",
   "metadata": {},
   "outputs": [],
   "source": [
    "def count_value(group:pd.Series,target_value:str):\n",
    "    \"\"\"\n",
    "    Функция для группировки по конкретному значению\n",
    "    Возвращает количество значений target_value в группе\n",
    "    \"\"\"\n",
    "    # считаем сколько значений подходят по условие\n",
    "    count_group = group.str.contains(target_value)\n",
    "    return sum(count_group)\n"
   ]
  },
  {
   "cell_type": "code",
   "execution_count": 2131,
   "id": "6447a62d",
   "metadata": {},
   "outputs": [],
   "source": [
    "dct_name_sheet = dict() # словарь где ключ это названия листа а значение датафрейм на основе которого был произведен подсчет"
   ]
  },
  {
   "cell_type": "code",
   "execution_count": null,
   "id": "3438f260",
   "metadata": {},
   "outputs": [],
   "source": []
  },
  {
   "cell_type": "code",
   "execution_count": 2132,
   "id": "148199d4",
   "metadata": {},
   "outputs": [
    {
     "name": "stderr",
     "output_type": "stream",
     "text": [
      "C:\\Users\\1\\anaconda3\\lib\\site-packages\\openpyxl\\worksheet\\_read_only.py:79: UserWarning: Data Validation extension is not supported and will be removed\n",
      "  for idx, row in parser.parse():\n"
     ]
    }
   ],
   "source": [
    "df = pd.read_excel('data/Общий файл.xlsx',dtype=str)\n",
    "df.fillna('Нет статуса',inplace=True) # заполняем Наны\n",
    "group_main_df = pd.DataFrame(index=list(df['Файл'].unique()))\n",
    "group_main_df.index.name = 'Файл'"
   ]
  },
  {
   "cell_type": "code",
   "execution_count": 2133,
   "id": "7c599011",
   "metadata": {},
   "outputs": [],
   "source": [
    "# Отбрасываем на всякий случай отчисленных\n",
    "df = df[df['Статус_Учёба']!= 'Отчислен']"
   ]
  },
  {
   "cell_type": "code",
   "execution_count": 2134,
   "id": "b3c3e9de",
   "metadata": {},
   "outputs": [],
   "source": [
    "# Создаем датафрейм с сиротами\n",
    "orphans_df = df[df['Статус_Сиротство'].isin(['гособеспечение + постинтернатное сопровождение','дети-сироты, находящиеся на полном государственном обеспечении',\n",
    "                                                     'дети-сироты, находящиеся под опекой'])]\n",
    "\n",
    "dct_name_sheet['Сироты'] = orphans_df # добавляем в словарь\n",
    "orphans_group_df = orphans_df.groupby(by=['Файл']).agg({'Статус_Сиротство':'count'}) # создаем базовый \n",
    "group_main_df = group_main_df.join(orphans_group_df) # добавляем в свод\n",
    "group_main_df.rename(columns={'Статус_Сиротство':'Дети-сироты'},inplace=True)"
   ]
  },
  {
   "cell_type": "code",
   "execution_count": null,
   "id": "600aa35a",
   "metadata": {},
   "outputs": [],
   "source": []
  },
  {
   "cell_type": "code",
   "execution_count": 2135,
   "id": "fb77cd0e",
   "metadata": {},
   "outputs": [
    {
     "data": {
      "text/html": [
       "<div>\n",
       "<style scoped>\n",
       "    .dataframe tbody tr th:only-of-type {\n",
       "        vertical-align: middle;\n",
       "    }\n",
       "\n",
       "    .dataframe tbody tr th {\n",
       "        vertical-align: top;\n",
       "    }\n",
       "\n",
       "    .dataframe thead th {\n",
       "        text-align: right;\n",
       "    }\n",
       "</style>\n",
       "<table border=\"1\" class=\"dataframe\">\n",
       "  <thead>\n",
       "    <tr style=\"text-align: right;\">\n",
       "      <th></th>\n",
       "      <th>Дети-сироты</th>\n",
       "    </tr>\n",
       "    <tr>\n",
       "      <th>Файл</th>\n",
       "      <th></th>\n",
       "    </tr>\n",
       "  </thead>\n",
       "  <tbody>\n",
       "    <tr>\n",
       "      <th>Железнодорожного транспорта</th>\n",
       "      <td>9</td>\n",
       "    </tr>\n",
       "    <tr>\n",
       "      <th>Энергоснабжения</th>\n",
       "      <td>13</td>\n",
       "    </tr>\n",
       "    <tr>\n",
       "      <th>Металлообработки</th>\n",
       "      <td>29</td>\n",
       "    </tr>\n",
       "    <tr>\n",
       "      <th>Хоринский филиал</th>\n",
       "      <td>3</td>\n",
       "    </tr>\n",
       "  </tbody>\n",
       "</table>\n",
       "</div>"
      ],
      "text/plain": [
       "                             Дети-сироты\n",
       "Файл                                    \n",
       "Железнодорожного транспорта            9\n",
       "Энергоснабжения                       13\n",
       "Металлообработки                      29\n",
       "Хоринский филиал                       3"
      ]
     },
     "execution_count": 2135,
     "metadata": {},
     "output_type": "execute_result"
    }
   ],
   "source": [
    "group_main_df"
   ]
  },
  {
   "cell_type": "code",
   "execution_count": 2136,
   "id": "3cc25b15",
   "metadata": {},
   "outputs": [],
   "source": [
    "# Создаем датафрейм с сиротами\n",
    "invalid_df = df[df['Статус_Уровень_здоровья'].isin(['Инвалид детства','Инвалид 1,2,3, группы'])]\n",
    "\n",
    "dct_name_sheet['Инвалиды'] = invalid_df # добавляем в словарь\n",
    "invalid_group_df = invalid_df.groupby(by=['Файл']).agg({'Статус_Уровень_здоровья':'count'}) # создаем базовый \n",
    "group_main_df = group_main_df.join(invalid_group_df) # добавляем в свод\n",
    "group_main_df.rename(columns={'Статус_Уровень_здоровья':'Инвалиды'},inplace=True)"
   ]
  },
  {
   "cell_type": "code",
   "execution_count": 2137,
   "id": "40466564",
   "metadata": {},
   "outputs": [
    {
     "data": {
      "text/html": [
       "<div>\n",
       "<style scoped>\n",
       "    .dataframe tbody tr th:only-of-type {\n",
       "        vertical-align: middle;\n",
       "    }\n",
       "\n",
       "    .dataframe tbody tr th {\n",
       "        vertical-align: top;\n",
       "    }\n",
       "\n",
       "    .dataframe thead th {\n",
       "        text-align: right;\n",
       "    }\n",
       "</style>\n",
       "<table border=\"1\" class=\"dataframe\">\n",
       "  <thead>\n",
       "    <tr style=\"text-align: right;\">\n",
       "      <th></th>\n",
       "      <th>Дети-сироты</th>\n",
       "      <th>Инвалиды</th>\n",
       "    </tr>\n",
       "    <tr>\n",
       "      <th>Файл</th>\n",
       "      <th></th>\n",
       "      <th></th>\n",
       "    </tr>\n",
       "  </thead>\n",
       "  <tbody>\n",
       "    <tr>\n",
       "      <th>Железнодорожного транспорта</th>\n",
       "      <td>9</td>\n",
       "      <td>10</td>\n",
       "    </tr>\n",
       "    <tr>\n",
       "      <th>Энергоснабжения</th>\n",
       "      <td>13</td>\n",
       "      <td>10</td>\n",
       "    </tr>\n",
       "    <tr>\n",
       "      <th>Металлообработки</th>\n",
       "      <td>29</td>\n",
       "      <td>22</td>\n",
       "    </tr>\n",
       "    <tr>\n",
       "      <th>Хоринский филиал</th>\n",
       "      <td>3</td>\n",
       "      <td>3</td>\n",
       "    </tr>\n",
       "  </tbody>\n",
       "</table>\n",
       "</div>"
      ],
      "text/plain": [
       "                             Дети-сироты  Инвалиды\n",
       "Файл                                              \n",
       "Железнодорожного транспорта            9        10\n",
       "Энергоснабжения                       13        10\n",
       "Металлообработки                      29        22\n",
       "Хоринский филиал                       3         3"
      ]
     },
     "execution_count": 2137,
     "metadata": {},
     "output_type": "execute_result"
    }
   ],
   "source": [
    "group_main_df"
   ]
  },
  {
   "cell_type": "code",
   "execution_count": 2138,
   "id": "52c55b17",
   "metadata": {},
   "outputs": [
    {
     "name": "stdout",
     "output_type": "stream",
     "text": [
      "(252, 55)\n",
      "(30, 55)\n"
     ]
    }
   ],
   "source": [
    "# Создаем датафрейм с получателями социальной стипендии\n",
    "print(df.shape)\n",
    "soc_benefit_df = df[df['Статус_Соц_стипендия'].isin(['да'])]\n",
    "print(soc_benefit_df.shape)\n",
    "dct_name_sheet['Соц. стипендия Все'] = soc_benefit_df # добавляем в словарь\n",
    "\n",
    "\n",
    "\n"
   ]
  },
  {
   "cell_type": "code",
   "execution_count": 2139,
   "id": "5ebb1c45",
   "metadata": {},
   "outputs": [],
   "source": [
    "# получаем малоимущих\n",
    "poor_soc_benefit_df = soc_benefit_df[soc_benefit_df['Статус_Соц_положение_семьи'].isin(['Малоимущая'])]\n",
    "dct_name_sheet['Соц. стипендия малоим.'] = poor_soc_benefit_df\n",
    "poor_soc_benefit_group_df = poor_soc_benefit_df.groupby(by=['Файл']).agg({'Статус_Соц_положение_семьи':'count'})\n",
    "group_main_df = group_main_df.join(poor_soc_benefit_group_df) # добавляем в свод\n",
    "group_main_df.rename(columns={'Статус_Соц_положение_семьи':'Соц. стипендия малоимущие'},inplace=True)\n"
   ]
  },
  {
   "cell_type": "code",
   "execution_count": 2140,
   "id": "5f87e7d3",
   "metadata": {},
   "outputs": [],
   "source": [
    "# получаем детей сирот\n",
    "orphans_soc_benefit_df = soc_benefit_df[soc_benefit_df['Статус_Сиротство'].isin(['гособеспечение + постинтернатное сопровождение','дети-сироты, находящиеся на полном государственном обеспечении',\n",
    "                                                     'дети-сироты, находящиеся под опекой'])]\n",
    "dct_name_sheet['Соц. стипендия сироты'] = orphans_soc_benefit_df\n",
    "orphans_soc_benefit_group_df = orphans_soc_benefit_df.groupby(by=['Файл']).agg({'Статус_Сиротство':'count'})\n",
    "group_main_df = group_main_df.join(orphans_soc_benefit_group_df) # добавляем в свод\n",
    "group_main_df.rename(columns={'Статус_Сиротство':'Соц. стипендия дети-сироты'},inplace=True)"
   ]
  },
  {
   "cell_type": "code",
   "execution_count": 2141,
   "id": "a050c3eb",
   "metadata": {},
   "outputs": [],
   "source": [
    "# получаем инвалидов\n",
    "invalid_soc_benefit_df = soc_benefit_df[soc_benefit_df['Статус_Уровень_здоровья'].isin(['Инвалид детства','Инвалид 1,2,3, группы'])]\n",
    "dct_name_sheet['Соц. стипендия инвалиды'] = invalid_soc_benefit_df\n",
    "invalid_soc_benefit_group_df = invalid_soc_benefit_df.groupby(by=['Файл']).agg({'Статус_Уровень_здоровья':'count'})\n",
    "group_main_df = group_main_df.join(invalid_soc_benefit_group_df) # добавляем в свод\n",
    "group_main_df.rename(columns={'Статус_Уровень_здоровья':'Соц. стипендия инвалиды'},inplace=True)"
   ]
  },
  {
   "cell_type": "code",
   "execution_count": null,
   "id": "5cdcbf6b",
   "metadata": {},
   "outputs": [],
   "source": []
  },
  {
   "cell_type": "code",
   "execution_count": null,
   "id": "069046b7",
   "metadata": {},
   "outputs": [],
   "source": []
  },
  {
   "cell_type": "code",
   "execution_count": 2142,
   "id": "6d39e66b",
   "metadata": {},
   "outputs": [
    {
     "name": "stdout",
     "output_type": "stream",
     "text": [
      "(252, 55)\n",
      "(60, 55)\n"
     ]
    }
   ],
   "source": [
    "# Создаем датафрейм с получателями бесплатного питания\n",
    "print(df.shape)\n",
    "eating_df = df[df['Статус_Питание'].isin(['получает компенсацию за питание','питается в БРИТ'])]\n",
    "print(eating_df.shape)\n",
    "dct_name_sheet['Питание все'] = eating_df # добавляем в словарь"
   ]
  },
  {
   "cell_type": "code",
   "execution_count": 2143,
   "id": "6719b6d0",
   "metadata": {},
   "outputs": [],
   "source": [
    "# получаем малоимущих\n",
    "poor_eating_df = eating_df[eating_df['Статус_Соц_положение_семьи'].isin(['Малоимущая'])]\n",
    "dct_name_sheet['Питание малоим.'] = poor_eating_df\n",
    "poor_eating_group_df = poor_eating_df.groupby(by=['Файл']).agg({'Статус_Соц_положение_семьи':'count'})\n",
    "group_main_df = group_main_df.join(poor_eating_group_df) # добавляем в свод\n",
    "group_main_df.rename(columns={'Статус_Соц_положение_семьи':'Питание малоимущие'},inplace=True)"
   ]
  },
  {
   "cell_type": "code",
   "execution_count": 2144,
   "id": "8f9e1a6c",
   "metadata": {},
   "outputs": [],
   "source": [
    "# получаем сирот\n",
    "orphans_eating_df = eating_df[eating_df['Статус_Сиротство'].isin(['гособеспечение + постинтернатное сопровождение','дети-сироты, находящиеся на полном государственном обеспечении',\n",
    "                                                     'дети-сироты, находящиеся под опекой'])]\n",
    "dct_name_sheet['Питание сироты'] = orphans_eating_df\n",
    "orphans_eating_group_df = orphans_eating_df.groupby(by=['Файл']).agg({'Статус_Сиротство':'count'})\n",
    "group_main_df = group_main_df.join(orphans_eating_group_df) # добавляем в свод\n",
    "group_main_df.rename(columns={'Статус_Сиротство':'Питание сироты'},inplace=True)"
   ]
  },
  {
   "cell_type": "code",
   "execution_count": 2145,
   "id": "7e2ea5c9",
   "metadata": {},
   "outputs": [],
   "source": [
    "# получаем инвалидов\n",
    "invalid_eating_df = eating_df[eating_df['Статус_Уровень_здоровья'].isin(['Инвалид детства','Инвалид 1,2,3, группы'])]\n",
    "dct_name_sheet['Питание инвалиды'] = invalid_eating_df\n",
    "invalid_eating_group_df = invalid_eating_df.groupby(by=['Файл']).agg({'Статус_Уровень_здоровья':'count'})\n",
    "group_main_df = group_main_df.join(invalid_eating_group_df) # добавляем в свод\n",
    "group_main_df.rename(columns={'Статус_Уровень_здоровья':'Питание инвалиды'},inplace=True)"
   ]
  },
  {
   "cell_type": "code",
   "execution_count": 2146,
   "id": "6e15fa27",
   "metadata": {},
   "outputs": [],
   "source": [
    "# получаем СВО\n",
    "svo_eating_df = eating_df[eating_df['Статус_Родитель_СВО'].isin(['да'])]\n",
    "dct_name_sheet['Питание СВО'] = svo_eating_df\n",
    "svo_eating_group_df = svo_eating_df.groupby(by=['Файл']).agg({'Статус_Родитель_СВО':'count'})\n",
    "group_main_df = group_main_df.join(svo_eating_group_df) # добавляем в свод\n",
    "group_main_df.rename(columns={'Статус_Родитель_СВО':'Питание СВО'},inplace=True)"
   ]
  },
  {
   "cell_type": "code",
   "execution_count": null,
   "id": "22766bb2",
   "metadata": {},
   "outputs": [],
   "source": []
  },
  {
   "cell_type": "code",
   "execution_count": null,
   "id": "9ed4b136",
   "metadata": {},
   "outputs": [],
   "source": []
  },
  {
   "cell_type": "code",
   "execution_count": 2147,
   "id": "de5e94e0",
   "metadata": {},
   "outputs": [
    {
     "name": "stdout",
     "output_type": "stream",
     "text": [
      "(252, 55)\n",
      "(71, 55)\n"
     ]
    }
   ],
   "source": [
    "# Создаем датафрейм с проживающими в общежитии\n",
    "print(df.shape)\n",
    "dormitory_df = df[df['Статус_Общежитие'].isin(['да'])]\n",
    "print(dormitory_df.shape)\n",
    "dct_name_sheet['Общежитие все'] = dormitory_df # добавляем в словарь\n",
    "dormitory_group_df = dormitory_df.groupby(by=['Файл']).agg({'Статус_Общежитие':'count'})\n",
    "group_main_df = group_main_df.join(dormitory_group_df) # добавляем в свод\n",
    "group_main_df.rename(columns={'Статус_Общежитие':'Общежитие Всего'},inplace=True)"
   ]
  },
  {
   "cell_type": "code",
   "execution_count": 2148,
   "id": "7c6ccf2e",
   "metadata": {},
   "outputs": [],
   "source": [
    "# получаем не сирот и сохраняем для списка\n",
    "not_orphans_dormitory_df = dormitory_df[~dormitory_df['Статус_Сиротство'].isin(['гособеспечение + постинтернатное сопровождение','дети-сироты, находящиеся на полном государственном обеспечении',\n",
    "                                                     'дети-сироты, находящиеся под опекой'])]\n",
    "dct_name_sheet['Общежитие кроме сирот'] = not_orphans_dormitory_df\n"
   ]
  },
  {
   "cell_type": "code",
   "execution_count": 2149,
   "id": "8f64e24f",
   "metadata": {},
   "outputs": [],
   "source": [
    "# получаем сирот\n",
    "orphans_dormitory_df = dormitory_df[dormitory_df['Статус_Сиротство'].isin(['гособеспечение + постинтернатное сопровождение','дети-сироты, находящиеся на полном государственном обеспечении',\n",
    "                                                     'дети-сироты, находящиеся под опекой'])]\n",
    "dct_name_sheet['Питание сироты'] = orphans_dormitory_df\n",
    "orphans_dormitory_group_df = orphans_dormitory_df.groupby(by=['Файл']).agg({'Статус_Сиротство':'count'})\n",
    "group_main_df = group_main_df.join(orphans_dormitory_group_df) # добавляем в свод\n",
    "group_main_df.rename(columns={'Статус_Сиротство':'Общежитие сироты'},inplace=True)"
   ]
  },
  {
   "cell_type": "code",
   "execution_count": null,
   "id": "9926d31c",
   "metadata": {},
   "outputs": [],
   "source": []
  },
  {
   "cell_type": "code",
   "execution_count": 2150,
   "id": "1c73c1af",
   "metadata": {},
   "outputs": [
    {
     "name": "stdout",
     "output_type": "stream",
     "text": [
      "(252, 55)\n",
      "(80, 55)\n"
     ]
    }
   ],
   "source": [
    "# Считаем выпуск 2024\n",
    "print(df.shape)\n",
    "release_df = df[df['Статус_Выпуск'].isin(['да'])]\n",
    "print(release_df.shape)\n",
    "dct_name_sheet['Выпуск 2024'] = release_df # добавляем в словарь"
   ]
  },
  {
   "cell_type": "code",
   "execution_count": 2151,
   "id": "5d4e6952",
   "metadata": {},
   "outputs": [],
   "source": [
    "# Считаем сирот\n",
    "release_orphans_df = release_df[release_df['Статус_Сиротство'].isin(['гособеспечение + постинтернатное сопровождение','дети-сироты, находящиеся на полном государственном обеспечении',\n",
    "                                                     'дети-сироты, находящиеся под опекой'])]\n",
    "\n",
    "dct_name_sheet['Выпуск сироты'] = release_orphans_df # добавляем в словарь\n",
    "release_orphans_group_df = release_orphans_df.groupby(by=['Файл']).agg({'Статус_Сиротство':'count'}) # создаем базовый \n",
    "group_main_df = group_main_df.join(release_orphans_group_df) # добавляем в свод\n",
    "group_main_df.rename(columns={'Статус_Сиротство':'Выпуск сироты'},inplace=True)"
   ]
  },
  {
   "cell_type": "code",
   "execution_count": 2152,
   "id": "2d1591e2",
   "metadata": {},
   "outputs": [],
   "source": [
    "# Считаем инвалидов\n",
    "release_invalid_df = release_df[release_df['Статус_Уровень_здоровья'].isin(['Инвалид детства','Инвалид 1,2,3, группы'])]\n",
    "\n",
    "dct_name_sheet['Выпуск инвалиды'] = release_invalid_df # добавляем в словарь\n",
    "release_invalid_group_df = release_invalid_df.groupby(by=['Файл']).agg({'Статус_Уровень_здоровья':'count'}) # создаем базовый \n",
    "group_main_df = group_main_df.join(release_invalid_group_df) # добавляем в свод\n",
    "group_main_df.rename(columns={'Статус_Уровень_здоровья':'Выпуск инвалиды'},inplace=True)"
   ]
  },
  {
   "cell_type": "code",
   "execution_count": 2153,
   "id": "9b5ffbd5",
   "metadata": {},
   "outputs": [],
   "source": [
    "group_main_df.fillna(0,inplace=True) # заполняем наны\n",
    "group_main_df=group_main_df.astype(int) # приводим к инту\n",
    "sum_row = group_main_df.sum(axis=0) # суммируем колонки\n",
    "group_main_df.loc['Итого'] = sum_row # добавляем суммирующую колонку"
   ]
  },
  {
   "cell_type": "code",
   "execution_count": 2154,
   "id": "d4ef5579",
   "metadata": {},
   "outputs": [
    {
     "data": {
      "text/html": [
       "<div>\n",
       "<style scoped>\n",
       "    .dataframe tbody tr th:only-of-type {\n",
       "        vertical-align: middle;\n",
       "    }\n",
       "\n",
       "    .dataframe tbody tr th {\n",
       "        vertical-align: top;\n",
       "    }\n",
       "\n",
       "    .dataframe thead th {\n",
       "        text-align: right;\n",
       "    }\n",
       "</style>\n",
       "<table border=\"1\" class=\"dataframe\">\n",
       "  <thead>\n",
       "    <tr style=\"text-align: right;\">\n",
       "      <th></th>\n",
       "      <th>Дети-сироты</th>\n",
       "      <th>Инвалиды</th>\n",
       "      <th>Соц. стипендия малоимущие</th>\n",
       "      <th>Соц. стипендия дети-сироты</th>\n",
       "      <th>Соц. стипендия инвалиды</th>\n",
       "      <th>Питание малоимущие</th>\n",
       "      <th>Питание сироты</th>\n",
       "      <th>Питание инвалиды</th>\n",
       "      <th>Питание СВО</th>\n",
       "      <th>Общежитие Всего</th>\n",
       "      <th>Общежитие сироты</th>\n",
       "      <th>Выпуск сироты</th>\n",
       "      <th>Выпуск инвалиды</th>\n",
       "    </tr>\n",
       "    <tr>\n",
       "      <th>Файл</th>\n",
       "      <th></th>\n",
       "      <th></th>\n",
       "      <th></th>\n",
       "      <th></th>\n",
       "      <th></th>\n",
       "      <th></th>\n",
       "      <th></th>\n",
       "      <th></th>\n",
       "      <th></th>\n",
       "      <th></th>\n",
       "      <th></th>\n",
       "      <th></th>\n",
       "      <th></th>\n",
       "    </tr>\n",
       "  </thead>\n",
       "  <tbody>\n",
       "    <tr>\n",
       "      <th>Железнодорожного транспорта</th>\n",
       "      <td>9</td>\n",
       "      <td>10</td>\n",
       "      <td>1</td>\n",
       "      <td>3</td>\n",
       "      <td>1</td>\n",
       "      <td>1</td>\n",
       "      <td>3</td>\n",
       "      <td>3</td>\n",
       "      <td>2</td>\n",
       "      <td>12</td>\n",
       "      <td>5</td>\n",
       "      <td>9</td>\n",
       "      <td>10</td>\n",
       "    </tr>\n",
       "    <tr>\n",
       "      <th>Энергоснабжения</th>\n",
       "      <td>13</td>\n",
       "      <td>10</td>\n",
       "      <td>0</td>\n",
       "      <td>4</td>\n",
       "      <td>0</td>\n",
       "      <td>0</td>\n",
       "      <td>4</td>\n",
       "      <td>3</td>\n",
       "      <td>3</td>\n",
       "      <td>17</td>\n",
       "      <td>7</td>\n",
       "      <td>0</td>\n",
       "      <td>0</td>\n",
       "    </tr>\n",
       "    <tr>\n",
       "      <th>Металлообработки</th>\n",
       "      <td>29</td>\n",
       "      <td>22</td>\n",
       "      <td>0</td>\n",
       "      <td>8</td>\n",
       "      <td>0</td>\n",
       "      <td>0</td>\n",
       "      <td>8</td>\n",
       "      <td>7</td>\n",
       "      <td>7</td>\n",
       "      <td>37</td>\n",
       "      <td>15</td>\n",
       "      <td>5</td>\n",
       "      <td>4</td>\n",
       "    </tr>\n",
       "    <tr>\n",
       "      <th>Хоринский филиал</th>\n",
       "      <td>3</td>\n",
       "      <td>3</td>\n",
       "      <td>0</td>\n",
       "      <td>1</td>\n",
       "      <td>1</td>\n",
       "      <td>2</td>\n",
       "      <td>1</td>\n",
       "      <td>1</td>\n",
       "      <td>2</td>\n",
       "      <td>5</td>\n",
       "      <td>2</td>\n",
       "      <td>3</td>\n",
       "      <td>3</td>\n",
       "    </tr>\n",
       "    <tr>\n",
       "      <th>Итого</th>\n",
       "      <td>54</td>\n",
       "      <td>45</td>\n",
       "      <td>1</td>\n",
       "      <td>16</td>\n",
       "      <td>2</td>\n",
       "      <td>3</td>\n",
       "      <td>16</td>\n",
       "      <td>14</td>\n",
       "      <td>14</td>\n",
       "      <td>71</td>\n",
       "      <td>29</td>\n",
       "      <td>17</td>\n",
       "      <td>17</td>\n",
       "    </tr>\n",
       "  </tbody>\n",
       "</table>\n",
       "</div>"
      ],
      "text/plain": [
       "                             Дети-сироты  Инвалиды  Соц. стипендия малоимущие  \\\n",
       "Файл                                                                            \n",
       "Железнодорожного транспорта            9        10                          1   \n",
       "Энергоснабжения                       13        10                          0   \n",
       "Металлообработки                      29        22                          0   \n",
       "Хоринский филиал                       3         3                          0   \n",
       "Итого                                 54        45                          1   \n",
       "\n",
       "                             Соц. стипендия дети-сироты  \\\n",
       "Файл                                                      \n",
       "Железнодорожного транспорта                           3   \n",
       "Энергоснабжения                                       4   \n",
       "Металлообработки                                      8   \n",
       "Хоринский филиал                                      1   \n",
       "Итого                                                16   \n",
       "\n",
       "                             Соц. стипендия инвалиды  Питание малоимущие  \\\n",
       "Файл                                                                       \n",
       "Железнодорожного транспорта                        1                   1   \n",
       "Энергоснабжения                                    0                   0   \n",
       "Металлообработки                                   0                   0   \n",
       "Хоринский филиал                                   1                   2   \n",
       "Итого                                              2                   3   \n",
       "\n",
       "                             Питание сироты  Питание инвалиды  Питание СВО  \\\n",
       "Файл                                                                         \n",
       "Железнодорожного транспорта               3                 3            2   \n",
       "Энергоснабжения                           4                 3            3   \n",
       "Металлообработки                          8                 7            7   \n",
       "Хоринский филиал                          1                 1            2   \n",
       "Итого                                    16                14           14   \n",
       "\n",
       "                             Общежитие Всего  Общежитие сироты  Выпуск сироты  \\\n",
       "Файл                                                                            \n",
       "Железнодорожного транспорта               12                 5              9   \n",
       "Энергоснабжения                           17                 7              0   \n",
       "Металлообработки                          37                15              5   \n",
       "Хоринский филиал                           5                 2              3   \n",
       "Итого                                     71                29             17   \n",
       "\n",
       "                             Выпуск инвалиды  \n",
       "Файл                                          \n",
       "Железнодорожного транспорта               10  \n",
       "Энергоснабжения                            0  \n",
       "Металлообработки                           4  \n",
       "Хоринский филиал                           3  \n",
       "Итого                                     17  "
      ]
     },
     "execution_count": 2154,
     "metadata": {},
     "output_type": "execute_result"
    }
   ],
   "source": [
    "group_main_df"
   ]
  },
  {
   "cell_type": "code",
   "execution_count": null,
   "id": "38697115",
   "metadata": {},
   "outputs": [],
   "source": []
  },
  {
   "cell_type": "code",
   "execution_count": null,
   "id": "c122cf53",
   "metadata": {},
   "outputs": [],
   "source": []
  },
  {
   "cell_type": "code",
   "execution_count": null,
   "id": "6d948ae4",
   "metadata": {},
   "outputs": [],
   "source": []
  },
  {
   "cell_type": "code",
   "execution_count": 2155,
   "id": "349c1886",
   "metadata": {},
   "outputs": [],
   "source": [
    "group_orphans_main_df = pd.DataFrame(index=list(df['Файл'].unique())) # Базовый датафрейм для сирот\n"
   ]
  },
  {
   "cell_type": "code",
   "execution_count": 2156,
   "id": "b48f1f23",
   "metadata": {},
   "outputs": [],
   "source": [
    "# Считаем общее количество\n",
    "all_orphans_group_df = orphans_df.groupby(by=['Файл']).agg({'Статус_Сиротство':'count'}) # создаем базовый \n",
    "group_orphans_main_df = group_orphans_main_df.join(all_orphans_group_df) # добавляем в свод\n",
    "group_orphans_main_df.rename(columns={'Статус_Сиротство':'Всего'},inplace=True)"
   ]
  },
  {
   "cell_type": "code",
   "execution_count": 2157,
   "id": "170dd024",
   "metadata": {},
   "outputs": [],
   "source": [
    "# считаем академ\n",
    "akadem_orphans_df = orphans_df[orphans_df['Статус_Учёба'].str.contains('Академический отпуск')]\n",
    "dct_name_sheet['Сироты академ'] = akadem_orphans_df\n",
    "akadem_orphans_group_df = akadem_orphans_df.groupby(by=['Файл']).agg({'Статус_Сиротство':'count'})\n",
    "group_orphans_main_df = group_orphans_main_df.join(akadem_orphans_group_df) # добавляем в свод\n",
    "group_orphans_main_df.rename(columns={'Статус_Сиротство':'Из них в академическом отпуске'},inplace=True)"
   ]
  },
  {
   "cell_type": "code",
   "execution_count": 2158,
   "id": "9308fe64",
   "metadata": {},
   "outputs": [],
   "source": [
    "# считаем постинтернатное сопровождение\n",
    "postinternat_orphans_df = orphans_df[orphans_df['Статус_Сиротство'].str.contains('постинтернатное сопровождение')]\n",
    "dct_name_sheet['Сироты постинтернат'] = postinternat_orphans_df\n",
    "postinternat_orphans_group_df = postinternat_orphans_df.groupby(by=['Файл']).agg({'Статус_Сиротство':'count'})\n",
    "group_orphans_main_df = group_orphans_main_df.join(postinternat_orphans_group_df) # добавляем в свод\n",
    "group_orphans_main_df.rename(columns={'Статус_Сиротство':'Из них постинтернат'},inplace=True)"
   ]
  },
  {
   "cell_type": "code",
   "execution_count": 2159,
   "id": "c11e7ef4",
   "metadata": {},
   "outputs": [
    {
     "name": "stdout",
     "output_type": "stream",
     "text": [
      "(54, 55)\n",
      "(41, 55)\n"
     ]
    }
   ],
   "source": [
    "# считаем сирот на гособеспечении\n",
    "print(orphans_df.shape)\n",
    "gos_orphans_df = orphans_df[orphans_df['Статус_Сиротство'].isin(['гособеспечение + постинтернатное сопровождение','дети-сироты, находящиеся на полном государственном обеспечении'\n",
    "                                                     ])]\n",
    "print(gos_orphans_df.shape)\n",
    "dct_name_sheet['Сироты гособеспечение'] = gos_orphans_df\n",
    "gos_orphans_group_df = gos_orphans_df.groupby(by=['Файл']).agg({'Статус_Сиротство':'count'})\n",
    "group_orphans_main_df = group_orphans_main_df.join(gos_orphans_group_df) # добавляем в свод\n",
    "group_orphans_main_df.rename(columns={'Статус_Сиротство':'Из них на гособеспечении'},inplace=True)"
   ]
  },
  {
   "cell_type": "code",
   "execution_count": 2160,
   "id": "013853fa",
   "metadata": {},
   "outputs": [
    {
     "name": "stdout",
     "output_type": "stream",
     "text": [
      "(54, 55)\n",
      "(13, 55)\n"
     ]
    }
   ],
   "source": [
    "# считаем сирот с опекой\n",
    "print(orphans_df.shape)\n",
    "custody_orphans_df = orphans_df[orphans_df['Статус_Сиротство'].isin(['дети-сироты, находящиеся под опекой'])]\n",
    "print(custody_orphans_df.shape)\n",
    "dct_name_sheet['Сироты опека'] = custody_orphans_df\n",
    "custody_orphans_group_df = custody_orphans_df.groupby(by=['Файл']).agg({'Статус_Сиротство':'count'})\n",
    "group_orphans_main_df = group_orphans_main_df.join(custody_orphans_group_df) # добавляем в свод\n",
    "group_orphans_main_df.rename(columns={'Статус_Сиротство':'Из них под опекой'},inplace=True)"
   ]
  },
  {
   "cell_type": "code",
   "execution_count": 2161,
   "id": "2ef67ba3",
   "metadata": {},
   "outputs": [
    {
     "name": "stdout",
     "output_type": "stream",
     "text": [
      "(54, 55)\n",
      "(17, 55)\n"
     ]
    }
   ],
   "source": [
    "# считаем сирот получающих питание\n",
    "print(orphans_df.shape)\n",
    "all_eating_orphans_df = orphans_df[orphans_df['Статус_Питание'].isin(['питается в БРИТ','получает компенсацию за питание',\n",
    "                                                                     'получает компенсацию за питание + питается в БРИТ'])]\n",
    "print(all_eating_orphans_df.shape)\n",
    "dct_name_sheet['Сироты питание все'] = all_eating_orphans_df\n",
    "all_eating_orphans_group_df = all_eating_orphans_df.groupby(by=['Файл']).agg({'Статус_Сиротство':'count'})\n",
    "group_orphans_main_df = group_orphans_main_df.join(all_eating_orphans_group_df) # добавляем в свод\n",
    "group_orphans_main_df.rename(columns={'Статус_Сиротство':'Питается всего'},inplace=True)"
   ]
  },
  {
   "cell_type": "code",
   "execution_count": 2162,
   "id": "0adc4b1d",
   "metadata": {},
   "outputs": [
    {
     "name": "stdout",
     "output_type": "stream",
     "text": [
      "(54, 55)\n",
      "(1, 55)\n"
     ]
    }
   ],
   "source": [
    "# считаем сирот получающих питание в брит\n",
    "print(orphans_df.shape)\n",
    "brit_eating_orphans_df = orphans_df[orphans_df['Статус_Питание'].isin(['питается в БРИТ'])]\n",
    "print(brit_eating_orphans_df.shape)\n",
    "dct_name_sheet['Сироты питание БРИТ'] = brit_eating_orphans_df\n",
    "brit_eating_orphans_group_df = brit_eating_orphans_df.groupby(by=['Файл']).agg({'Статус_Сиротство':'count'})\n",
    "group_orphans_main_df = group_orphans_main_df.join(brit_eating_orphans_group_df) # добавляем в свод\n",
    "group_orphans_main_df.rename(columns={'Статус_Сиротство':'Питается в БРИТ'},inplace=True)"
   ]
  },
  {
   "cell_type": "code",
   "execution_count": 2163,
   "id": "e551ad25",
   "metadata": {},
   "outputs": [
    {
     "name": "stdout",
     "output_type": "stream",
     "text": [
      "(54, 55)\n",
      "(15, 55)\n"
     ]
    }
   ],
   "source": [
    "# считаем сирот получающих компенсацию\n",
    "print(orphans_df.shape)\n",
    "compens_eating_orphans_df = orphans_df[orphans_df['Статус_Питание'].isin(['получает компенсацию за питание'])]\n",
    "print(compens_eating_orphans_df.shape)\n",
    "dct_name_sheet['Сироты питание компенсация'] = compens_eating_orphans_df\n",
    "compens_eating_orphans_group_df = compens_eating_orphans_df.groupby(by=['Файл']).agg({'Статус_Сиротство':'count'})\n",
    "group_orphans_main_df = group_orphans_main_df.join(compens_eating_orphans_group_df) # добавляем в свод\n",
    "group_orphans_main_df.rename(columns={'Статус_Сиротство':'Получает компенсацию'},inplace=True)"
   ]
  },
  {
   "cell_type": "code",
   "execution_count": 2164,
   "id": "eee5e2e7",
   "metadata": {},
   "outputs": [
    {
     "name": "stdout",
     "output_type": "stream",
     "text": [
      "(54, 55)\n",
      "(1, 55)\n"
     ]
    }
   ],
   "source": [
    "# считаем сирот получающих компенсацию + питание в брит\n",
    "print(orphans_df.shape)\n",
    "brit_compens_eating_orphans_df = orphans_df[orphans_df['Статус_Питание'].isin(['получает компенсацию за питание + питается в БРИТ'])]\n",
    "print(brit_compens_eating_orphans_df.shape)\n",
    "dct_name_sheet['Сироты питание БРИТ+компенсация'] = brit_compens_eating_orphans_df\n",
    "brit_compens_eating_orphans_group_df = brit_compens_eating_orphans_df.groupby(by=['Файл']).agg({'Статус_Сиротство':'count'})\n",
    "group_orphans_main_df = group_orphans_main_df.join(brit_compens_eating_orphans_group_df) # добавляем в свод\n",
    "group_orphans_main_df.rename(columns={'Статус_Сиротство':'БРИТ+компенсация'},inplace=True)"
   ]
  },
  {
   "cell_type": "code",
   "execution_count": 2165,
   "id": "b4887c55",
   "metadata": {},
   "outputs": [],
   "source": [
    "group_orphans_main_df.fillna(0,inplace=True) # заполняем наны\n",
    "group_orphans_main_df=group_orphans_main_df.astype(int) # приводим к инту\n",
    "sum_row = group_orphans_main_df.sum(axis=0) # суммируем колонки\n",
    "group_orphans_main_df.loc['Итого'] = sum_row # добавляем суммирующую колонку"
   ]
  },
  {
   "cell_type": "code",
   "execution_count": 2166,
   "id": "49870ae5",
   "metadata": {},
   "outputs": [
    {
     "data": {
      "text/html": [
       "<div>\n",
       "<style scoped>\n",
       "    .dataframe tbody tr th:only-of-type {\n",
       "        vertical-align: middle;\n",
       "    }\n",
       "\n",
       "    .dataframe tbody tr th {\n",
       "        vertical-align: top;\n",
       "    }\n",
       "\n",
       "    .dataframe thead th {\n",
       "        text-align: right;\n",
       "    }\n",
       "</style>\n",
       "<table border=\"1\" class=\"dataframe\">\n",
       "  <thead>\n",
       "    <tr style=\"text-align: right;\">\n",
       "      <th></th>\n",
       "      <th>Всего</th>\n",
       "      <th>Из них в академическом отпуске</th>\n",
       "      <th>Из них постинтернат</th>\n",
       "      <th>Из них на гособеспечении</th>\n",
       "      <th>Из них под опекой</th>\n",
       "      <th>Питается всего</th>\n",
       "      <th>Питается в БРИТ</th>\n",
       "      <th>Получает компенсацию</th>\n",
       "      <th>БРИТ+компенсация</th>\n",
       "    </tr>\n",
       "  </thead>\n",
       "  <tbody>\n",
       "    <tr>\n",
       "      <th>Железнодорожного транспорта</th>\n",
       "      <td>9</td>\n",
       "      <td>2</td>\n",
       "      <td>4</td>\n",
       "      <td>7</td>\n",
       "      <td>2</td>\n",
       "      <td>3</td>\n",
       "      <td>0</td>\n",
       "      <td>3</td>\n",
       "      <td>0</td>\n",
       "    </tr>\n",
       "    <tr>\n",
       "      <th>Энергоснабжения</th>\n",
       "      <td>13</td>\n",
       "      <td>3</td>\n",
       "      <td>6</td>\n",
       "      <td>10</td>\n",
       "      <td>3</td>\n",
       "      <td>4</td>\n",
       "      <td>0</td>\n",
       "      <td>4</td>\n",
       "      <td>0</td>\n",
       "    </tr>\n",
       "    <tr>\n",
       "      <th>Металлообработки</th>\n",
       "      <td>29</td>\n",
       "      <td>7</td>\n",
       "      <td>14</td>\n",
       "      <td>22</td>\n",
       "      <td>7</td>\n",
       "      <td>8</td>\n",
       "      <td>0</td>\n",
       "      <td>8</td>\n",
       "      <td>0</td>\n",
       "    </tr>\n",
       "    <tr>\n",
       "      <th>Хоринский филиал</th>\n",
       "      <td>3</td>\n",
       "      <td>2</td>\n",
       "      <td>2</td>\n",
       "      <td>2</td>\n",
       "      <td>1</td>\n",
       "      <td>2</td>\n",
       "      <td>1</td>\n",
       "      <td>0</td>\n",
       "      <td>1</td>\n",
       "    </tr>\n",
       "    <tr>\n",
       "      <th>Итого</th>\n",
       "      <td>54</td>\n",
       "      <td>14</td>\n",
       "      <td>26</td>\n",
       "      <td>41</td>\n",
       "      <td>13</td>\n",
       "      <td>17</td>\n",
       "      <td>1</td>\n",
       "      <td>15</td>\n",
       "      <td>1</td>\n",
       "    </tr>\n",
       "  </tbody>\n",
       "</table>\n",
       "</div>"
      ],
      "text/plain": [
       "                             Всего  Из них в академическом отпуске  \\\n",
       "Железнодорожного транспорта      9                               2   \n",
       "Энергоснабжения                 13                               3   \n",
       "Металлообработки                29                               7   \n",
       "Хоринский филиал                 3                               2   \n",
       "Итого                           54                              14   \n",
       "\n",
       "                             Из них постинтернат  Из них на гособеспечении  \\\n",
       "Железнодорожного транспорта                    4                         7   \n",
       "Энергоснабжения                                6                        10   \n",
       "Металлообработки                              14                        22   \n",
       "Хоринский филиал                               2                         2   \n",
       "Итого                                         26                        41   \n",
       "\n",
       "                             Из них под опекой  Питается всего  \\\n",
       "Железнодорожного транспорта                  2               3   \n",
       "Энергоснабжения                              3               4   \n",
       "Металлообработки                             7               8   \n",
       "Хоринский филиал                             1               2   \n",
       "Итого                                       13              17   \n",
       "\n",
       "                             Питается в БРИТ  Получает компенсацию  \\\n",
       "Железнодорожного транспорта                0                     3   \n",
       "Энергоснабжения                            0                     4   \n",
       "Металлообработки                           0                     8   \n",
       "Хоринский филиал                           1                     0   \n",
       "Итого                                      1                    15   \n",
       "\n",
       "                             БРИТ+компенсация  \n",
       "Железнодорожного транспорта                 0  \n",
       "Энергоснабжения                             0  \n",
       "Металлообработки                            0  \n",
       "Хоринский филиал                            1  \n",
       "Итого                                       1  "
      ]
     },
     "execution_count": 2166,
     "metadata": {},
     "output_type": "execute_result"
    }
   ],
   "source": [
    "group_orphans_main_df"
   ]
  },
  {
   "cell_type": "code",
   "execution_count": null,
   "id": "08dd3b1f",
   "metadata": {},
   "outputs": [],
   "source": []
  },
  {
   "cell_type": "code",
   "execution_count": 2167,
   "id": "7e152932",
   "metadata": {},
   "outputs": [],
   "source": [
    "# отчет по учетам"
   ]
  },
  {
   "cell_type": "code",
   "execution_count": 2168,
   "id": "bd4289b8",
   "metadata": {},
   "outputs": [],
   "source": [
    "group_accounting_main_df = pd.DataFrame(index=list(df['Файл'].unique())) # Базовый датафрейм для учетов"
   ]
  },
  {
   "cell_type": "code",
   "execution_count": 2169,
   "id": "d668aa09",
   "metadata": {},
   "outputs": [
    {
     "name": "stdout",
     "output_type": "stream",
     "text": [
      "(252, 55)\n",
      "(13, 55)\n"
     ]
    }
   ],
   "source": [
    "# Считаем КДН\n",
    "print(df.shape)\n",
    "kdn_accounting_df = df[df['Статус_КДН'].isin(['состоит'])]\n",
    "print(kdn_accounting_df.shape)\n",
    "dct_name_sheet['КДН'] = kdn_accounting_df\n",
    "kdn_group_accounting_df = kdn_accounting_df.groupby(by=['Файл']).agg({'Статус_КДН':'count'})\n",
    "group_accounting_main_df = group_accounting_main_df.join(kdn_group_accounting_df) # добавляем в свод\n"
   ]
  },
  {
   "cell_type": "code",
   "execution_count": 2170,
   "id": "b5f9fb45",
   "metadata": {},
   "outputs": [
    {
     "name": "stdout",
     "output_type": "stream",
     "text": [
      "(252, 55)\n",
      "(42, 55)\n"
     ]
    }
   ],
   "source": [
    "# Считаем ПДН\n",
    "print(df.shape)\n",
    "pdn_accounting_df = df[df['Статус_ПДН'].isin(['состоит'])]\n",
    "print(pdn_accounting_df.shape)\n",
    "dct_name_sheet['ПДН'] = pdn_accounting_df\n",
    "pdn_group_accounting_df = pdn_accounting_df.groupby(by=['Файл']).agg({'Статус_ПДН':'count'})\n",
    "group_accounting_main_df = group_accounting_main_df.join(pdn_group_accounting_df) # добавляем в свод"
   ]
  },
  {
   "cell_type": "code",
   "execution_count": 2171,
   "id": "247be725",
   "metadata": {},
   "outputs": [],
   "source": [
    "# Слаживаем колонки и удаляем лишнее\n",
    "group_accounting_main_df.fillna(0,inplace=True)\n",
    "group_accounting_main_df['Учет КДН, ПДН'] = group_accounting_main_df['Статус_КДН'] + group_accounting_main_df['Статус_ПДН']\n",
    "group_accounting_main_df.drop(columns=['Статус_КДН','Статус_ПДН'],inplace=True)"
   ]
  },
  {
   "cell_type": "code",
   "execution_count": 2172,
   "id": "cda9818e",
   "metadata": {},
   "outputs": [
    {
     "name": "stdout",
     "output_type": "stream",
     "text": [
      "(252, 55)\n",
      "(52, 55)\n"
     ]
    }
   ],
   "source": [
    "# Считаем внутренний учет\n",
    "print(df.shape)\n",
    "inside_accounting_df = df[df['Статус_Внутр_учет'].isin(['состоит'])]\n",
    "print(inside_accounting_df.shape)\n",
    "dct_name_sheet['Внутр_учет'] = inside_accounting_df\n",
    "inside_group_accounting_df = inside_accounting_df.groupby(by=['Файл']).agg({'Статус_Внутр_учет':'count'})\n",
    "group_accounting_main_df = group_accounting_main_df.join(inside_group_accounting_df) # добавляем в свод\n",
    "group_accounting_main_df.rename(columns={'Статус_Внутр_учет':'Внутренний учет'},inplace=True)"
   ]
  },
  {
   "cell_type": "code",
   "execution_count": 2173,
   "id": "8c38e5d2",
   "metadata": {},
   "outputs": [
    {
     "name": "stdout",
     "output_type": "stream",
     "text": [
      "(252, 55)\n",
      "(16, 55)\n"
     ]
    }
   ],
   "source": [
    "# Считаем самовольный уход\n",
    "print(df.shape)\n",
    "awol_accounting_df = df[df['Статус_Самовольный_уход'].isin(['да'])]\n",
    "print(awol_accounting_df.shape)\n",
    "dct_name_sheet['Самовольный уход'] = awol_accounting_df\n",
    "awol_group_accounting_df = awol_accounting_df.groupby(by=['Файл']).agg({'Статус_Самовольный_уход':'count'})\n",
    "group_accounting_main_df = group_accounting_main_df.join(awol_group_accounting_df) # добавляем в свод\n",
    "group_accounting_main_df.rename(columns={'Статус_Самовольный_уход':'Самовольный уход'},inplace=True)"
   ]
  },
  {
   "cell_type": "code",
   "execution_count": 2174,
   "id": "59e63f00",
   "metadata": {},
   "outputs": [
    {
     "name": "stdout",
     "output_type": "stream",
     "text": [
      "(252, 55)\n",
      "(29, 55)\n"
     ]
    }
   ],
   "source": [
    "# Считаем самовольный уход\n",
    "print(df.shape)\n",
    "sop_accounting_df = df[df['Статус_Соц_положение_семьи'].isin(['СОП'])]\n",
    "print(sop_accounting_df.shape)\n",
    "dct_name_sheet['СОП'] = sop_accounting_df\n",
    "sop_group_accounting_df = sop_accounting_df.groupby(by=['Файл']).agg({'Статус_Соц_положение_семьи':'count'})\n",
    "group_accounting_main_df = group_accounting_main_df.join(sop_group_accounting_df) # добавляем в свод\n",
    "group_accounting_main_df.rename(columns={'Статус_Соц_положение_семьи':'СОП'},inplace=True)"
   ]
  },
  {
   "cell_type": "code",
   "execution_count": 2175,
   "id": "56ba7346",
   "metadata": {},
   "outputs": [],
   "source": [
    "group_accounting_main_df.fillna(0,inplace=True) # заполняем наны\n",
    "group_accounting_main_df=group_accounting_main_df.astype(int) # приводим к инту\n",
    "sum_row = group_accounting_main_df.sum(axis=0) # суммируем колонки\n",
    "group_accounting_main_df.loc['Итого'] = sum_row # добавляем суммирующую колонку"
   ]
  },
  {
   "cell_type": "code",
   "execution_count": null,
   "id": "4a19b862",
   "metadata": {},
   "outputs": [],
   "source": []
  },
  {
   "cell_type": "code",
   "execution_count": null,
   "id": "1f46d775",
   "metadata": {},
   "outputs": [],
   "source": []
  },
  {
   "cell_type": "code",
   "execution_count": 2176,
   "id": "41b25198",
   "metadata": {},
   "outputs": [
    {
     "data": {
      "text/html": [
       "<div>\n",
       "<style scoped>\n",
       "    .dataframe tbody tr th:only-of-type {\n",
       "        vertical-align: middle;\n",
       "    }\n",
       "\n",
       "    .dataframe tbody tr th {\n",
       "        vertical-align: top;\n",
       "    }\n",
       "\n",
       "    .dataframe thead th {\n",
       "        text-align: right;\n",
       "    }\n",
       "</style>\n",
       "<table border=\"1\" class=\"dataframe\">\n",
       "  <thead>\n",
       "    <tr style=\"text-align: right;\">\n",
       "      <th></th>\n",
       "      <th>Учет КДН, ПДН</th>\n",
       "      <th>Внутренний учет</th>\n",
       "      <th>Самовольный уход</th>\n",
       "      <th>СОП</th>\n",
       "    </tr>\n",
       "  </thead>\n",
       "  <tbody>\n",
       "    <tr>\n",
       "      <th>Железнодорожного транспорта</th>\n",
       "      <td>9</td>\n",
       "      <td>8</td>\n",
       "      <td>3</td>\n",
       "      <td>5</td>\n",
       "    </tr>\n",
       "    <tr>\n",
       "      <th>Энергоснабжения</th>\n",
       "      <td>13</td>\n",
       "      <td>12</td>\n",
       "      <td>4</td>\n",
       "      <td>6</td>\n",
       "    </tr>\n",
       "    <tr>\n",
       "      <th>Металлообработки</th>\n",
       "      <td>29</td>\n",
       "      <td>28</td>\n",
       "      <td>8</td>\n",
       "      <td>15</td>\n",
       "    </tr>\n",
       "    <tr>\n",
       "      <th>Хоринский филиал</th>\n",
       "      <td>4</td>\n",
       "      <td>4</td>\n",
       "      <td>1</td>\n",
       "      <td>3</td>\n",
       "    </tr>\n",
       "    <tr>\n",
       "      <th>Итого</th>\n",
       "      <td>55</td>\n",
       "      <td>52</td>\n",
       "      <td>16</td>\n",
       "      <td>29</td>\n",
       "    </tr>\n",
       "  </tbody>\n",
       "</table>\n",
       "</div>"
      ],
      "text/plain": [
       "                             Учет КДН, ПДН  Внутренний учет  Самовольный уход  \\\n",
       "Железнодорожного транспорта              9                8                 3   \n",
       "Энергоснабжения                         13               12                 4   \n",
       "Металлообработки                        29               28                 8   \n",
       "Хоринский филиал                         4                4                 1   \n",
       "Итого                                   55               52                16   \n",
       "\n",
       "                             СОП  \n",
       "Железнодорожного транспорта    5  \n",
       "Энергоснабжения                6  \n",
       "Металлообработки              15  \n",
       "Хоринский филиал               3  \n",
       "Итого                         29  "
      ]
     },
     "execution_count": 2176,
     "metadata": {},
     "output_type": "execute_result"
    }
   ],
   "source": [
    "group_accounting_main_df"
   ]
  },
  {
   "cell_type": "code",
   "execution_count": null,
   "id": "4bc6624b",
   "metadata": {},
   "outputs": [],
   "source": []
  },
  {
   "cell_type": "code",
   "execution_count": null,
   "id": "69b37a77",
   "metadata": {},
   "outputs": [],
   "source": []
  },
  {
   "cell_type": "code",
   "execution_count": null,
   "id": "1953b59f",
   "metadata": {},
   "outputs": [],
   "source": []
  },
  {
   "cell_type": "code",
   "execution_count": null,
   "id": "365252b9",
   "metadata": {},
   "outputs": [],
   "source": []
  }
 ],
 "metadata": {
  "kernelspec": {
   "display_name": "Python 3 (ipykernel)",
   "language": "python",
   "name": "python3"
  },
  "language_info": {
   "codemirror_mode": {
    "name": "ipython",
    "version": 3
   },
   "file_extension": ".py",
   "mimetype": "text/x-python",
   "name": "python",
   "nbconvert_exporter": "python",
   "pygments_lexer": "ipython3",
   "version": "3.9.13"
  }
 },
 "nbformat": 4,
 "nbformat_minor": 5
}
