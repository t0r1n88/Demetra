{
 "cells": [
  {
   "cell_type": "code",
   "execution_count": 1339,
   "id": "9f8f4bac",
   "metadata": {},
   "outputs": [
    {
     "data": {
      "text/plain": [
       "'\\nСкрипт для создания отчета по форме БРИТ\\n'"
      ]
     },
     "execution_count": 1339,
     "metadata": {},
     "output_type": "execute_result"
    }
   ],
   "source": [
    "\"\"\"\n",
    "Скрипт для создания отчета по форме БРИТ\n",
    "\"\"\""
   ]
  },
  {
   "cell_type": "code",
   "execution_count": 1340,
   "id": "8f895b57",
   "metadata": {},
   "outputs": [],
   "source": [
    "import pandas as pd"
   ]
  },
  {
   "cell_type": "code",
   "execution_count": 1341,
   "id": "0c15e2ca",
   "metadata": {},
   "outputs": [],
   "source": [
    "def count_value(group:pd.Series,target_value:str):\n",
    "    \"\"\"\n",
    "    Функция для группировки по конкретному значению\n",
    "    Возвращает количество значений target_value в группе\n",
    "    \"\"\"\n",
    "    # считаем сколько значений подходят по условие\n",
    "    count_group = group.str.contains(target_value)\n",
    "    return sum(count_group)\n"
   ]
  },
  {
   "cell_type": "code",
   "execution_count": 1342,
   "id": "6447a62d",
   "metadata": {},
   "outputs": [],
   "source": [
    "check_cols = {'Статус_учёба','Статус_Сиротство','Статус_Уровень_здоровья'} # проверяемые колонки\n",
    "dct_name_sheet = dict() # словарь где ключ это названия листа а значение датафрейм на основе которого был произведен подсчет"
   ]
  },
  {
   "cell_type": "code",
   "execution_count": null,
   "id": "3438f260",
   "metadata": {},
   "outputs": [],
   "source": []
  },
  {
   "cell_type": "code",
   "execution_count": 1343,
   "id": "148199d4",
   "metadata": {},
   "outputs": [
    {
     "name": "stderr",
     "output_type": "stream",
     "text": [
      "C:\\Users\\1\\anaconda3\\lib\\site-packages\\openpyxl\\worksheet\\_read_only.py:79: UserWarning: Data Validation extension is not supported and will be removed\n",
      "  for idx, row in parser.parse():\n"
     ]
    }
   ],
   "source": [
    "df = pd.read_excel('data/Общий файл.xlsx',dtype=str)\n",
    "df.fillna('Нет статуса',inplace=True) # заполняем Наны\n",
    "group_main_df = pd.DataFrame(index=list(df['Файл'].unique()))\n",
    "group_main_df.index.name = 'Файл'"
   ]
  },
  {
   "cell_type": "code",
   "execution_count": 1344,
   "id": "7c599011",
   "metadata": {},
   "outputs": [],
   "source": [
    "# Отбрасываем на всякий случай отчисленных\n",
    "df = df[df['Статус_учёба']!= 'Отчислен']"
   ]
  },
  {
   "cell_type": "code",
   "execution_count": 1345,
   "id": "b3c3e9de",
   "metadata": {},
   "outputs": [],
   "source": [
    "# Создаем датафрейм с сиротами\n",
    "orphans_df = df[df['Статус_Сиротство'].isin(['гособеспечение + постинтернатное сопровождение','дети-сироты, находящиеся на полном государственном обеспечении',\n",
    "                                                     'дети-сироты, находящиеся под опекой'])]\n",
    "\n",
    "dct_name_sheet['Сироты'] = orphans_df # добавляем в словарь\n",
    "orphans_group_df = orphans_df.groupby(by=['Файл']).agg({'Статус_Сиротство':'count'}) # создаем базовый \n",
    "group_main_df = group_main_df.join(orphans_group_df) # добавляем в свод\n",
    "group_main_df.rename(columns={'Статус_Сиротство':'Дети-сироты'},inplace=True)"
   ]
  },
  {
   "cell_type": "code",
   "execution_count": null,
   "id": "600aa35a",
   "metadata": {},
   "outputs": [],
   "source": []
  },
  {
   "cell_type": "code",
   "execution_count": 1346,
   "id": "fb77cd0e",
   "metadata": {},
   "outputs": [
    {
     "data": {
      "text/html": [
       "<div>\n",
       "<style scoped>\n",
       "    .dataframe tbody tr th:only-of-type {\n",
       "        vertical-align: middle;\n",
       "    }\n",
       "\n",
       "    .dataframe tbody tr th {\n",
       "        vertical-align: top;\n",
       "    }\n",
       "\n",
       "    .dataframe thead th {\n",
       "        text-align: right;\n",
       "    }\n",
       "</style>\n",
       "<table border=\"1\" class=\"dataframe\">\n",
       "  <thead>\n",
       "    <tr style=\"text-align: right;\">\n",
       "      <th></th>\n",
       "      <th>Дети-сироты</th>\n",
       "    </tr>\n",
       "    <tr>\n",
       "      <th>Файл</th>\n",
       "      <th></th>\n",
       "    </tr>\n",
       "  </thead>\n",
       "  <tbody>\n",
       "    <tr>\n",
       "      <th>Железнодорожного транспорта</th>\n",
       "      <td>9</td>\n",
       "    </tr>\n",
       "    <tr>\n",
       "      <th>Энергоснабжения</th>\n",
       "      <td>13</td>\n",
       "    </tr>\n",
       "    <tr>\n",
       "      <th>Металлообработки</th>\n",
       "      <td>29</td>\n",
       "    </tr>\n",
       "    <tr>\n",
       "      <th>Хоринский филиал</th>\n",
       "      <td>4</td>\n",
       "    </tr>\n",
       "  </tbody>\n",
       "</table>\n",
       "</div>"
      ],
      "text/plain": [
       "                             Дети-сироты\n",
       "Файл                                    \n",
       "Железнодорожного транспорта            9\n",
       "Энергоснабжения                       13\n",
       "Металлообработки                      29\n",
       "Хоринский филиал                       4"
      ]
     },
     "execution_count": 1346,
     "metadata": {},
     "output_type": "execute_result"
    }
   ],
   "source": [
    "group_main_df"
   ]
  },
  {
   "cell_type": "code",
   "execution_count": 1347,
   "id": "3cc25b15",
   "metadata": {},
   "outputs": [],
   "source": [
    "# Создаем датафрейм с сиротами\n",
    "invalid_df = df[df['Статус_Уровень_здоровья'].isin(['Инвалид детства','Инвалид 1,2,3, группы'])]\n",
    "\n",
    "dct_name_sheet['Инвалиды'] = invalid_df # добавляем в словарь\n",
    "invalid_group_df = invalid_df.groupby(by=['Файл']).agg({'Статус_Уровень_здоровья':'count'}) # создаем базовый \n",
    "group_main_df = group_main_df.join(invalid_group_df) # добавляем в свод\n",
    "group_main_df.rename(columns={'Статус_Уровень_здоровья':'Инвалиды'},inplace=True)"
   ]
  },
  {
   "cell_type": "code",
   "execution_count": 1348,
   "id": "df56a1f0",
   "metadata": {},
   "outputs": [
    {
     "data": {
      "text/html": [
       "<div>\n",
       "<style scoped>\n",
       "    .dataframe tbody tr th:only-of-type {\n",
       "        vertical-align: middle;\n",
       "    }\n",
       "\n",
       "    .dataframe tbody tr th {\n",
       "        vertical-align: top;\n",
       "    }\n",
       "\n",
       "    .dataframe thead th {\n",
       "        text-align: right;\n",
       "    }\n",
       "</style>\n",
       "<table border=\"1\" class=\"dataframe\">\n",
       "  <thead>\n",
       "    <tr style=\"text-align: right;\">\n",
       "      <th></th>\n",
       "      <th>Дети-сироты</th>\n",
       "      <th>Инвалиды</th>\n",
       "    </tr>\n",
       "    <tr>\n",
       "      <th>Файл</th>\n",
       "      <th></th>\n",
       "      <th></th>\n",
       "    </tr>\n",
       "  </thead>\n",
       "  <tbody>\n",
       "    <tr>\n",
       "      <th>Железнодорожного транспорта</th>\n",
       "      <td>9</td>\n",
       "      <td>10</td>\n",
       "    </tr>\n",
       "    <tr>\n",
       "      <th>Энергоснабжения</th>\n",
       "      <td>13</td>\n",
       "      <td>10</td>\n",
       "    </tr>\n",
       "    <tr>\n",
       "      <th>Металлообработки</th>\n",
       "      <td>29</td>\n",
       "      <td>22</td>\n",
       "    </tr>\n",
       "    <tr>\n",
       "      <th>Хоринский филиал</th>\n",
       "      <td>4</td>\n",
       "      <td>3</td>\n",
       "    </tr>\n",
       "  </tbody>\n",
       "</table>\n",
       "</div>"
      ],
      "text/plain": [
       "                             Дети-сироты  Инвалиды\n",
       "Файл                                              \n",
       "Железнодорожного транспорта            9        10\n",
       "Энергоснабжения                       13        10\n",
       "Металлообработки                      29        22\n",
       "Хоринский филиал                       4         3"
      ]
     },
     "execution_count": 1348,
     "metadata": {},
     "output_type": "execute_result"
    }
   ],
   "source": [
    "group_main_df"
   ]
  },
  {
   "cell_type": "code",
   "execution_count": 1349,
   "id": "bb3cf099",
   "metadata": {},
   "outputs": [
    {
     "name": "stdout",
     "output_type": "stream",
     "text": [
      "(252, 53)\n",
      "(30, 53)\n"
     ]
    }
   ],
   "source": [
    "# Создаем датафрейм с получателями социальной стипендии\n",
    "print(df.shape)\n",
    "soc_benefit_df = df[df['Статус_соц_стипендия'].isin(['да'])]\n",
    "print(soc_benefit_df.shape)\n",
    "dct_name_sheet['Соц. стипендия Все'] = soc_benefit_df # добавляем в словарь\n",
    "\n",
    "\n",
    "\n"
   ]
  },
  {
   "cell_type": "code",
   "execution_count": 1350,
   "id": "d6e94b90",
   "metadata": {},
   "outputs": [],
   "source": [
    "# получаем малоимущих\n",
    "poor_soc_benefit_df = soc_benefit_df[soc_benefit_df['Статус_Соц_положение_семьи'].isin(['Малоимущая'])]\n",
    "dct_name_sheet['Соц. стипендия Малоим.'] = poor_soc_benefit_df\n",
    "poor_soc_benefit_group_df = poor_soc_benefit_df.groupby(by=['Файл']).agg({'Статус_Соц_положение_семьи':'count'})\n",
    "group_main_df = group_main_df.join(poor_soc_benefit_group_df) # добавляем в свод\n",
    "group_main_df.rename(columns={'Статус_Соц_положение_семьи':'Соц. стипендия малоимущие'},inplace=True)\n"
   ]
  },
  {
   "cell_type": "code",
   "execution_count": 1351,
   "id": "abead641",
   "metadata": {},
   "outputs": [],
   "source": [
    "# получаем детей сирот\n",
    "orphans_soc_benefit_df = soc_benefit_df[soc_benefit_df['Статус_Сиротство'].isin(['гособеспечение + постинтернатное сопровождение','дети-сироты, находящиеся на полном государственном обеспечении',\n",
    "                                                     'дети-сироты, находящиеся под опекой'])]\n",
    "dct_name_sheet['Соц. стипендия Сироты'] = orphans_soc_benefit_df\n",
    "orphans_soc_benefit_group_df = orphans_soc_benefit_df.groupby(by=['Файл']).agg({'Статус_Сиротство':'count'})\n",
    "group_main_df = group_main_df.join(orphans_soc_benefit_group_df) # добавляем в свод\n",
    "group_main_df.rename(columns={'Статус_Сиротство':'Соц. стипендия дети-сироты'},inplace=True)"
   ]
  },
  {
   "cell_type": "code",
   "execution_count": 1352,
   "id": "47c83a6a",
   "metadata": {},
   "outputs": [],
   "source": [
    "# получаем инвалидов\n",
    "invalid_soc_benefit_df = soc_benefit_df[soc_benefit_df['Статус_Уровень_здоровья'].isin(['Инвалид детства','Инвалид 1,2,3, группы'])]\n",
    "dct_name_sheet['Соц. стипендия Инвалиды'] = invalid_soc_benefit_df\n",
    "invalid_soc_benefit_group_df = invalid_soc_benefit_df.groupby(by=['Файл']).agg({'Статус_Уровень_здоровья':'count'})\n",
    "group_main_df = group_main_df.join(invalid_soc_benefit_group_df) # добавляем в свод\n",
    "group_main_df.rename(columns={'Статус_Уровень_здоровья':'Соц. стипендия инвалиды'},inplace=True)"
   ]
  },
  {
   "cell_type": "code",
   "execution_count": null,
   "id": "2d43fb42",
   "metadata": {},
   "outputs": [],
   "source": []
  },
  {
   "cell_type": "code",
   "execution_count": null,
   "id": "3493b043",
   "metadata": {},
   "outputs": [],
   "source": []
  },
  {
   "cell_type": "code",
   "execution_count": 1353,
   "id": "be700521",
   "metadata": {},
   "outputs": [
    {
     "name": "stdout",
     "output_type": "stream",
     "text": [
      "(252, 53)\n",
      "(60, 53)\n"
     ]
    }
   ],
   "source": [
    "# Создаем датафрейм с получателями бесплатного питания\n",
    "print(df.shape)\n",
    "eating_df = df[df['Статус_питание'].isin(['получает компенсацию за питание','питается в БРИТ'])]\n",
    "print(eating_df.shape)\n",
    "dct_name_sheet['Соц. стипендия Все'] = eating_df # добавляем в словарь"
   ]
  },
  {
   "cell_type": "code",
   "execution_count": 1354,
   "id": "ff785b91",
   "metadata": {},
   "outputs": [],
   "source": [
    "# получаем малоимущих\n",
    "poor_eating_df = eating_df[eating_df['Статус_Соц_положение_семьи'].isin(['Малоимущая'])]\n",
    "dct_name_sheet['Питание Малоим.'] = poor_eating_df\n",
    "poor_eating_group_df = poor_eating_df.groupby(by=['Файл']).agg({'Статус_Соц_положение_семьи':'count'})\n",
    "group_main_df = group_main_df.join(poor_eating_group_df) # добавляем в свод\n",
    "group_main_df.rename(columns={'Статус_Соц_положение_семьи':'Питание малоимущие'},inplace=True)"
   ]
  },
  {
   "cell_type": "code",
   "execution_count": 1355,
   "id": "bc9e71ee",
   "metadata": {},
   "outputs": [],
   "source": [
    "# получаем сирот\n",
    "orphans_eating_df = eating_df[eating_df['Статус_Сиротство'].isin(['гособеспечение + постинтернатное сопровождение','дети-сироты, находящиеся на полном государственном обеспечении',\n",
    "                                                     'дети-сироты, находящиеся под опекой'])]\n",
    "dct_name_sheet['Питание Сироты'] = orphans_eating_df\n",
    "orphans_eating_group_df = orphans_eating_df.groupby(by=['Файл']).agg({'Статус_Сиротство':'count'})\n",
    "group_main_df = group_main_df.join(orphans_eating_group_df) # добавляем в свод\n",
    "group_main_df.rename(columns={'Статус_Сиротство':'Питание сироты'},inplace=True)"
   ]
  },
  {
   "cell_type": "code",
   "execution_count": 1356,
   "id": "2600e9aa",
   "metadata": {},
   "outputs": [],
   "source": [
    "# получаем инвалидов\n",
    "invalid_eating_df = eating_df[eating_df['Статус_Уровень_здоровья'].isin(['Инвалид детства','Инвалид 1,2,3, группы'])]\n",
    "dct_name_sheet['Питание Инвалиды'] = invalid_eating_df\n",
    "invalid_eating_group_df = invalid_eating_df.groupby(by=['Файл']).agg({'Статус_Уровень_здоровья':'count'})\n",
    "group_main_df = group_main_df.join(invalid_eating_group_df) # добавляем в свод\n",
    "group_main_df.rename(columns={'Статус_Уровень_здоровья':'Питание инвалиды'},inplace=True)"
   ]
  },
  {
   "cell_type": "code",
   "execution_count": 1357,
   "id": "d38c1398",
   "metadata": {},
   "outputs": [],
   "source": [
    "# получаем СВО\n",
    "svo_eating_df = eating_df[eating_df['Статус_родитель_СВО'].isin(['да'])]\n",
    "dct_name_sheet['Питание СВО'] = svo_eating_df\n",
    "svo_eating_group_df = svo_eating_df.groupby(by=['Файл']).agg({'Статус_родитель_СВО':'count'})\n",
    "group_main_df = group_main_df.join(svo_eating_group_df) # добавляем в свод\n",
    "group_main_df.rename(columns={'Статус_родитель_СВО':'Питание СВО'},inplace=True)"
   ]
  },
  {
   "cell_type": "code",
   "execution_count": null,
   "id": "443208c4",
   "metadata": {},
   "outputs": [],
   "source": []
  },
  {
   "cell_type": "code",
   "execution_count": null,
   "id": "80c6e986",
   "metadata": {},
   "outputs": [],
   "source": []
  },
  {
   "cell_type": "code",
   "execution_count": 1358,
   "id": "530ba91f",
   "metadata": {},
   "outputs": [
    {
     "name": "stdout",
     "output_type": "stream",
     "text": [
      "(252, 53)\n",
      "(71, 53)\n"
     ]
    }
   ],
   "source": [
    "# Создаем датафрейм с проживающими в общежитии\n",
    "print(df.shape)\n",
    "dormitory_df = df[df['Статус_общежитие'].isin(['да'])]\n",
    "print(dormitory_df.shape)\n",
    "dct_name_sheet['Общежитие Все'] = dormitory_df # добавляем в словарь\n",
    "dormitory_group_df = dormitory_df.groupby(by=['Файл']).agg({'Статус_общежитие':'count'})\n",
    "group_main_df = group_main_df.join(dormitory_group_df) # добавляем в свод\n",
    "group_main_df.rename(columns={'Статус_общежитие':'Общежитие Всего'},inplace=True)"
   ]
  },
  {
   "cell_type": "code",
   "execution_count": 1359,
   "id": "a634605f",
   "metadata": {},
   "outputs": [],
   "source": [
    "# получаем не сирот и сохраняем для списка\n",
    "not_orphans_dormitory_df = dormitory_df[~dormitory_df['Статус_Сиротство'].isin(['гособеспечение + постинтернатное сопровождение','дети-сироты, находящиеся на полном государственном обеспечении',\n",
    "                                                     'дети-сироты, находящиеся под опекой'])]\n",
    "dct_name_sheet['Общежитие Кроме сирот'] = not_orphans_dormitory_df\n"
   ]
  },
  {
   "cell_type": "code",
   "execution_count": 1360,
   "id": "304f3787",
   "metadata": {},
   "outputs": [],
   "source": [
    "# получаем сирот\n",
    "# получаем сирот\n",
    "orphans_dormitory_df = dormitory_df[dormitory_df['Статус_Сиротство'].isin(['гособеспечение + постинтернатное сопровождение','дети-сироты, находящиеся на полном государственном обеспечении',\n",
    "                                                     'дети-сироты, находящиеся под опекой'])]\n",
    "dct_name_sheet['Питание Сироты'] = orphans_dormitory_df\n",
    "orphans_dormitory_group_df = orphans_dormitory_df.groupby(by=['Файл']).agg({'Статус_Сиротство':'count'})\n",
    "group_main_df = group_main_df.join(orphans_dormitory_group_df) # добавляем в свод\n",
    "group_main_df.rename(columns={'Статус_Сиротство':'Общежитие сироты'},inplace=True)"
   ]
  },
  {
   "cell_type": "code",
   "execution_count": null,
   "id": "ab84bd01",
   "metadata": {},
   "outputs": [],
   "source": []
  },
  {
   "cell_type": "code",
   "execution_count": 1361,
   "id": "75cb2b6d",
   "metadata": {},
   "outputs": [
    {
     "data": {
      "text/html": [
       "<div>\n",
       "<style scoped>\n",
       "    .dataframe tbody tr th:only-of-type {\n",
       "        vertical-align: middle;\n",
       "    }\n",
       "\n",
       "    .dataframe tbody tr th {\n",
       "        vertical-align: top;\n",
       "    }\n",
       "\n",
       "    .dataframe thead th {\n",
       "        text-align: right;\n",
       "    }\n",
       "</style>\n",
       "<table border=\"1\" class=\"dataframe\">\n",
       "  <thead>\n",
       "    <tr style=\"text-align: right;\">\n",
       "      <th></th>\n",
       "      <th>Дети-сироты</th>\n",
       "      <th>Инвалиды</th>\n",
       "      <th>Соц. стипендия малоимущие</th>\n",
       "      <th>Соц. стипендия дети-сироты</th>\n",
       "      <th>Соц. стипендия инвалиды</th>\n",
       "      <th>Питание малоимущие</th>\n",
       "      <th>Питание сироты</th>\n",
       "      <th>Питание инвалиды</th>\n",
       "      <th>Питание СВО</th>\n",
       "      <th>Общежитие Всего</th>\n",
       "      <th>Общежитие сироты</th>\n",
       "    </tr>\n",
       "    <tr>\n",
       "      <th>Файл</th>\n",
       "      <th></th>\n",
       "      <th></th>\n",
       "      <th></th>\n",
       "      <th></th>\n",
       "      <th></th>\n",
       "      <th></th>\n",
       "      <th></th>\n",
       "      <th></th>\n",
       "      <th></th>\n",
       "      <th></th>\n",
       "      <th></th>\n",
       "    </tr>\n",
       "  </thead>\n",
       "  <tbody>\n",
       "    <tr>\n",
       "      <th>Железнодорожного транспорта</th>\n",
       "      <td>9</td>\n",
       "      <td>10</td>\n",
       "      <td>1.0</td>\n",
       "      <td>3</td>\n",
       "      <td>1.0</td>\n",
       "      <td>1.0</td>\n",
       "      <td>3</td>\n",
       "      <td>3</td>\n",
       "      <td>2</td>\n",
       "      <td>12</td>\n",
       "      <td>5</td>\n",
       "    </tr>\n",
       "    <tr>\n",
       "      <th>Энергоснабжения</th>\n",
       "      <td>13</td>\n",
       "      <td>10</td>\n",
       "      <td>NaN</td>\n",
       "      <td>4</td>\n",
       "      <td>NaN</td>\n",
       "      <td>NaN</td>\n",
       "      <td>4</td>\n",
       "      <td>3</td>\n",
       "      <td>3</td>\n",
       "      <td>17</td>\n",
       "      <td>7</td>\n",
       "    </tr>\n",
       "    <tr>\n",
       "      <th>Металлообработки</th>\n",
       "      <td>29</td>\n",
       "      <td>22</td>\n",
       "      <td>NaN</td>\n",
       "      <td>8</td>\n",
       "      <td>NaN</td>\n",
       "      <td>NaN</td>\n",
       "      <td>8</td>\n",
       "      <td>7</td>\n",
       "      <td>7</td>\n",
       "      <td>37</td>\n",
       "      <td>15</td>\n",
       "    </tr>\n",
       "    <tr>\n",
       "      <th>Хоринский филиал</th>\n",
       "      <td>4</td>\n",
       "      <td>3</td>\n",
       "      <td>NaN</td>\n",
       "      <td>1</td>\n",
       "      <td>1.0</td>\n",
       "      <td>2.0</td>\n",
       "      <td>1</td>\n",
       "      <td>1</td>\n",
       "      <td>2</td>\n",
       "      <td>5</td>\n",
       "      <td>2</td>\n",
       "    </tr>\n",
       "  </tbody>\n",
       "</table>\n",
       "</div>"
      ],
      "text/plain": [
       "                             Дети-сироты  Инвалиды  Соц. стипендия малоимущие  \\\n",
       "Файл                                                                            \n",
       "Железнодорожного транспорта            9        10                        1.0   \n",
       "Энергоснабжения                       13        10                        NaN   \n",
       "Металлообработки                      29        22                        NaN   \n",
       "Хоринский филиал                       4         3                        NaN   \n",
       "\n",
       "                             Соц. стипендия дети-сироты  \\\n",
       "Файл                                                      \n",
       "Железнодорожного транспорта                           3   \n",
       "Энергоснабжения                                       4   \n",
       "Металлообработки                                      8   \n",
       "Хоринский филиал                                      1   \n",
       "\n",
       "                             Соц. стипендия инвалиды  Питание малоимущие  \\\n",
       "Файл                                                                       \n",
       "Железнодорожного транспорта                      1.0                 1.0   \n",
       "Энергоснабжения                                  NaN                 NaN   \n",
       "Металлообработки                                 NaN                 NaN   \n",
       "Хоринский филиал                                 1.0                 2.0   \n",
       "\n",
       "                             Питание сироты  Питание инвалиды  Питание СВО  \\\n",
       "Файл                                                                         \n",
       "Железнодорожного транспорта               3                 3            2   \n",
       "Энергоснабжения                           4                 3            3   \n",
       "Металлообработки                          8                 7            7   \n",
       "Хоринский филиал                          1                 1            2   \n",
       "\n",
       "                             Общежитие Всего  Общежитие сироты  \n",
       "Файл                                                            \n",
       "Железнодорожного транспорта               12                 5  \n",
       "Энергоснабжения                           17                 7  \n",
       "Металлообработки                          37                15  \n",
       "Хоринский филиал                           5                 2  "
      ]
     },
     "execution_count": 1361,
     "metadata": {},
     "output_type": "execute_result"
    }
   ],
   "source": [
    "group_main_df"
   ]
  },
  {
   "cell_type": "code",
   "execution_count": 1362,
   "id": "f241d8f4",
   "metadata": {},
   "outputs": [],
   "source": [
    "group_main_df.fillna(0,inplace=True) # заполняем наны\n",
    "group_main_df=group_main_df.astype(int) # приводим к инту\n",
    "sum_row = group_main_df.sum(axis=0) # суммируем колонки\n",
    "group_main_df.loc['Итого'] = sum_row # добавляем суммирующую колонку"
   ]
  },
  {
   "cell_type": "code",
   "execution_count": null,
   "id": "ba00ddee",
   "metadata": {},
   "outputs": [],
   "source": []
  },
  {
   "cell_type": "code",
   "execution_count": null,
   "id": "d6b9a844",
   "metadata": {},
   "outputs": [],
   "source": []
  },
  {
   "cell_type": "code",
   "execution_count": null,
   "id": "a4e91156",
   "metadata": {},
   "outputs": [],
   "source": []
  },
  {
   "cell_type": "code",
   "execution_count": 1363,
   "id": "ee35a104",
   "metadata": {},
   "outputs": [
    {
     "data": {
      "text/html": [
       "<div>\n",
       "<style scoped>\n",
       "    .dataframe tbody tr th:only-of-type {\n",
       "        vertical-align: middle;\n",
       "    }\n",
       "\n",
       "    .dataframe tbody tr th {\n",
       "        vertical-align: top;\n",
       "    }\n",
       "\n",
       "    .dataframe thead th {\n",
       "        text-align: right;\n",
       "    }\n",
       "</style>\n",
       "<table border=\"1\" class=\"dataframe\">\n",
       "  <thead>\n",
       "    <tr style=\"text-align: right;\">\n",
       "      <th></th>\n",
       "      <th>Дети-сироты</th>\n",
       "      <th>Инвалиды</th>\n",
       "      <th>Соц. стипендия малоимущие</th>\n",
       "      <th>Соц. стипендия дети-сироты</th>\n",
       "      <th>Соц. стипендия инвалиды</th>\n",
       "      <th>Питание малоимущие</th>\n",
       "      <th>Питание сироты</th>\n",
       "      <th>Питание инвалиды</th>\n",
       "      <th>Питание СВО</th>\n",
       "      <th>Общежитие Всего</th>\n",
       "      <th>Общежитие сироты</th>\n",
       "    </tr>\n",
       "    <tr>\n",
       "      <th>Файл</th>\n",
       "      <th></th>\n",
       "      <th></th>\n",
       "      <th></th>\n",
       "      <th></th>\n",
       "      <th></th>\n",
       "      <th></th>\n",
       "      <th></th>\n",
       "      <th></th>\n",
       "      <th></th>\n",
       "      <th></th>\n",
       "      <th></th>\n",
       "    </tr>\n",
       "  </thead>\n",
       "  <tbody>\n",
       "    <tr>\n",
       "      <th>Железнодорожного транспорта</th>\n",
       "      <td>9</td>\n",
       "      <td>10</td>\n",
       "      <td>1</td>\n",
       "      <td>3</td>\n",
       "      <td>1</td>\n",
       "      <td>1</td>\n",
       "      <td>3</td>\n",
       "      <td>3</td>\n",
       "      <td>2</td>\n",
       "      <td>12</td>\n",
       "      <td>5</td>\n",
       "    </tr>\n",
       "    <tr>\n",
       "      <th>Энергоснабжения</th>\n",
       "      <td>13</td>\n",
       "      <td>10</td>\n",
       "      <td>0</td>\n",
       "      <td>4</td>\n",
       "      <td>0</td>\n",
       "      <td>0</td>\n",
       "      <td>4</td>\n",
       "      <td>3</td>\n",
       "      <td>3</td>\n",
       "      <td>17</td>\n",
       "      <td>7</td>\n",
       "    </tr>\n",
       "    <tr>\n",
       "      <th>Металлообработки</th>\n",
       "      <td>29</td>\n",
       "      <td>22</td>\n",
       "      <td>0</td>\n",
       "      <td>8</td>\n",
       "      <td>0</td>\n",
       "      <td>0</td>\n",
       "      <td>8</td>\n",
       "      <td>7</td>\n",
       "      <td>7</td>\n",
       "      <td>37</td>\n",
       "      <td>15</td>\n",
       "    </tr>\n",
       "    <tr>\n",
       "      <th>Хоринский филиал</th>\n",
       "      <td>4</td>\n",
       "      <td>3</td>\n",
       "      <td>0</td>\n",
       "      <td>1</td>\n",
       "      <td>1</td>\n",
       "      <td>2</td>\n",
       "      <td>1</td>\n",
       "      <td>1</td>\n",
       "      <td>2</td>\n",
       "      <td>5</td>\n",
       "      <td>2</td>\n",
       "    </tr>\n",
       "    <tr>\n",
       "      <th>Итого</th>\n",
       "      <td>55</td>\n",
       "      <td>45</td>\n",
       "      <td>1</td>\n",
       "      <td>16</td>\n",
       "      <td>2</td>\n",
       "      <td>3</td>\n",
       "      <td>16</td>\n",
       "      <td>14</td>\n",
       "      <td>14</td>\n",
       "      <td>71</td>\n",
       "      <td>29</td>\n",
       "    </tr>\n",
       "  </tbody>\n",
       "</table>\n",
       "</div>"
      ],
      "text/plain": [
       "                             Дети-сироты  Инвалиды  Соц. стипендия малоимущие  \\\n",
       "Файл                                                                            \n",
       "Железнодорожного транспорта            9        10                          1   \n",
       "Энергоснабжения                       13        10                          0   \n",
       "Металлообработки                      29        22                          0   \n",
       "Хоринский филиал                       4         3                          0   \n",
       "Итого                                 55        45                          1   \n",
       "\n",
       "                             Соц. стипендия дети-сироты  \\\n",
       "Файл                                                      \n",
       "Железнодорожного транспорта                           3   \n",
       "Энергоснабжения                                       4   \n",
       "Металлообработки                                      8   \n",
       "Хоринский филиал                                      1   \n",
       "Итого                                                16   \n",
       "\n",
       "                             Соц. стипендия инвалиды  Питание малоимущие  \\\n",
       "Файл                                                                       \n",
       "Железнодорожного транспорта                        1                   1   \n",
       "Энергоснабжения                                    0                   0   \n",
       "Металлообработки                                   0                   0   \n",
       "Хоринский филиал                                   1                   2   \n",
       "Итого                                              2                   3   \n",
       "\n",
       "                             Питание сироты  Питание инвалиды  Питание СВО  \\\n",
       "Файл                                                                         \n",
       "Железнодорожного транспорта               3                 3            2   \n",
       "Энергоснабжения                           4                 3            3   \n",
       "Металлообработки                          8                 7            7   \n",
       "Хоринский филиал                          1                 1            2   \n",
       "Итого                                    16                14           14   \n",
       "\n",
       "                             Общежитие Всего  Общежитие сироты  \n",
       "Файл                                                            \n",
       "Железнодорожного транспорта               12                 5  \n",
       "Энергоснабжения                           17                 7  \n",
       "Металлообработки                          37                15  \n",
       "Хоринский филиал                           5                 2  \n",
       "Итого                                     71                29  "
      ]
     },
     "execution_count": 1363,
     "metadata": {},
     "output_type": "execute_result"
    }
   ],
   "source": [
    "group_main_df"
   ]
  },
  {
   "cell_type": "code",
   "execution_count": 1364,
   "id": "349c1886",
   "metadata": {},
   "outputs": [],
   "source": [
    "group_orphans_main_df = pd.DataFrame(index=list(df['Файл'].unique())) # Базовый датафрейм для сирот\n"
   ]
  },
  {
   "cell_type": "code",
   "execution_count": 1365,
   "id": "8e027109",
   "metadata": {},
   "outputs": [],
   "source": [
    "# Считаем общее количество\n",
    "all_orphans_group_df = orphans_df.groupby(by=['Файл']).agg({'Статус_Сиротство':'count'}) # создаем базовый \n",
    "group_orphans_main_df = group_orphans_main_df.join(all_orphans_group_df) # добавляем в свод\n",
    "group_orphans_main_df.rename(columns={'Статус_Сиротство':'Всего'},inplace=True)"
   ]
  },
  {
   "cell_type": "code",
   "execution_count": 1366,
   "id": "0dd0ca52",
   "metadata": {},
   "outputs": [],
   "source": [
    "# считаем академ\n",
    "akadem_orphans_df = orphans_df[orphans_df['Статус_учёба'].str.contains('Академический отпуск')]\n",
    "dct_name_sheet['Сироты Академ'] = akadem_orphans_df\n",
    "akadem_orphans_group_df = akadem_orphans_df.groupby(by=['Файл']).agg({'Статус_Сиротство':'count'})\n",
    "group_orphans_main_df = group_orphans_main_df.join(akadem_orphans_group_df) # добавляем в свод\n",
    "group_orphans_main_df.rename(columns={'Статус_Сиротство':'Из них в академическом отпуске'},inplace=True)"
   ]
  },
  {
   "cell_type": "code",
   "execution_count": 1367,
   "id": "b8398b71",
   "metadata": {},
   "outputs": [],
   "source": [
    "# считаем постинтернатное сопровождение\n",
    "postinternat_orphans_df = orphans_df[orphans_df['Статус_Сиротство'].str.contains('постинтернатное сопровождение')]\n",
    "dct_name_sheet['Сироты постинтернат'] = postinternat_orphans_df\n",
    "postinternat_orphans_group_df = postinternat_orphans_df.groupby(by=['Файл']).agg({'Статус_Сиротство':'count'})\n",
    "group_orphans_main_df = group_orphans_main_df.join(postinternat_orphans_group_df) # добавляем в свод\n",
    "group_orphans_main_df.rename(columns={'Статус_Сиротство':'Из них постинтернат'},inplace=True)"
   ]
  },
  {
   "cell_type": "code",
   "execution_count": 1368,
   "id": "d684e8d4",
   "metadata": {},
   "outputs": [
    {
     "name": "stdout",
     "output_type": "stream",
     "text": [
      "(55, 53)\n",
      "(41, 53)\n"
     ]
    }
   ],
   "source": [
    "# считаем сирот на гособеспечении\n",
    "print(orphans_df.shape)\n",
    "gos_orphans_df = orphans_df[orphans_df['Статус_Сиротство'].isin(['гособеспечение + постинтернатное сопровождение','дети-сироты, находящиеся на полном государственном обеспечении'\n",
    "                                                     ])]\n",
    "print(gos_orphans_df.shape)\n",
    "dct_name_sheet['Сироты гособеспечение'] = gos_orphans_df\n",
    "gos_orphans_group_df = gos_orphans_df.groupby(by=['Файл']).agg({'Статус_Сиротство':'count'})\n",
    "group_orphans_main_df = group_orphans_main_df.join(gos_orphans_group_df) # добавляем в свод\n",
    "group_orphans_main_df.rename(columns={'Статус_Сиротство':'Из них на гособеспечении'},inplace=True)"
   ]
  },
  {
   "cell_type": "code",
   "execution_count": null,
   "id": "6fec94bc",
   "metadata": {},
   "outputs": [],
   "source": [
    "# считаем сирот на гособеспечении\n",
    "print(orphans_df.shape)\n",
    "gos_orphans_df = orphans_df[orphans_df['Статус_Сиротство'].isin(['гособеспечение + постинтернатное сопровождение','дети-сироты, находящиеся на полном государственном обеспечении'\n",
    "                                                     ])]\n",
    "print(gos_orphans_df.shape)\n",
    "dct_name_sheet['Сироты гособеспечение'] = gos_orphans_df\n",
    "gos_orphans_group_df = gos_orphans_df.groupby(by=['Файл']).agg({'Статус_Сиротство':'count'})\n",
    "group_orphans_main_df = group_orphans_main_df.join(gos_orphans_group_df) # добавляем в свод\n",
    "group_orphans_main_df.rename(columns={'Статус_Сиротство':'Из них на гособеспечении'},inplace=True)"
   ]
  },
  {
   "cell_type": "code",
   "execution_count": null,
   "id": "4d13cfe5",
   "metadata": {},
   "outputs": [],
   "source": []
  },
  {
   "cell_type": "code",
   "execution_count": null,
   "id": "e9ae3327",
   "metadata": {},
   "outputs": [],
   "source": []
  },
  {
   "cell_type": "code",
   "execution_count": null,
   "id": "d924edda",
   "metadata": {},
   "outputs": [],
   "source": []
  },
  {
   "cell_type": "code",
   "execution_count": null,
   "id": "f7a5db45",
   "metadata": {},
   "outputs": [],
   "source": []
  },
  {
   "cell_type": "code",
   "execution_count": null,
   "id": "715c53b4",
   "metadata": {},
   "outputs": [],
   "source": []
  },
  {
   "cell_type": "code",
   "execution_count": 1369,
   "id": "e9e43720",
   "metadata": {},
   "outputs": [
    {
     "data": {
      "text/html": [
       "<div>\n",
       "<style scoped>\n",
       "    .dataframe tbody tr th:only-of-type {\n",
       "        vertical-align: middle;\n",
       "    }\n",
       "\n",
       "    .dataframe tbody tr th {\n",
       "        vertical-align: top;\n",
       "    }\n",
       "\n",
       "    .dataframe thead th {\n",
       "        text-align: right;\n",
       "    }\n",
       "</style>\n",
       "<table border=\"1\" class=\"dataframe\">\n",
       "  <thead>\n",
       "    <tr style=\"text-align: right;\">\n",
       "      <th></th>\n",
       "      <th>Всего</th>\n",
       "      <th>Из них в академическом отпуске</th>\n",
       "      <th>Из них постинтернат</th>\n",
       "      <th>Из них на гособеспечении</th>\n",
       "    </tr>\n",
       "  </thead>\n",
       "  <tbody>\n",
       "    <tr>\n",
       "      <th>Железнодорожного транспорта</th>\n",
       "      <td>9</td>\n",
       "      <td>2</td>\n",
       "      <td>4</td>\n",
       "      <td>7</td>\n",
       "    </tr>\n",
       "    <tr>\n",
       "      <th>Энергоснабжения</th>\n",
       "      <td>13</td>\n",
       "      <td>3</td>\n",
       "      <td>6</td>\n",
       "      <td>10</td>\n",
       "    </tr>\n",
       "    <tr>\n",
       "      <th>Металлообработки</th>\n",
       "      <td>29</td>\n",
       "      <td>7</td>\n",
       "      <td>14</td>\n",
       "      <td>22</td>\n",
       "    </tr>\n",
       "    <tr>\n",
       "      <th>Хоринский филиал</th>\n",
       "      <td>4</td>\n",
       "      <td>2</td>\n",
       "      <td>2</td>\n",
       "      <td>2</td>\n",
       "    </tr>\n",
       "  </tbody>\n",
       "</table>\n",
       "</div>"
      ],
      "text/plain": [
       "                             Всего  Из них в академическом отпуске  \\\n",
       "Железнодорожного транспорта      9                               2   \n",
       "Энергоснабжения                 13                               3   \n",
       "Металлообработки                29                               7   \n",
       "Хоринский филиал                 4                               2   \n",
       "\n",
       "                             Из них постинтернат  Из них на гособеспечении  \n",
       "Железнодорожного транспорта                    4                         7  \n",
       "Энергоснабжения                                6                        10  \n",
       "Металлообработки                              14                        22  \n",
       "Хоринский филиал                               2                         2  "
      ]
     },
     "execution_count": 1369,
     "metadata": {},
     "output_type": "execute_result"
    }
   ],
   "source": [
    "group_orphans_main_df"
   ]
  },
  {
   "cell_type": "code",
   "execution_count": null,
   "id": "ca66fcf7",
   "metadata": {},
   "outputs": [],
   "source": []
  },
  {
   "cell_type": "code",
   "execution_count": null,
   "id": "f92e04e9",
   "metadata": {},
   "outputs": [],
   "source": []
  },
  {
   "cell_type": "code",
   "execution_count": null,
   "id": "1953b59f",
   "metadata": {},
   "outputs": [],
   "source": []
  },
  {
   "cell_type": "code",
   "execution_count": null,
   "id": "365252b9",
   "metadata": {},
   "outputs": [],
   "source": []
  }
 ],
 "metadata": {
  "kernelspec": {
   "display_name": "Python 3 (ipykernel)",
   "language": "python",
   "name": "python3"
  },
  "language_info": {
   "codemirror_mode": {
    "name": "ipython",
    "version": 3
   },
   "file_extension": ".py",
   "mimetype": "text/x-python",
   "name": "python",
   "nbconvert_exporter": "python",
   "pygments_lexer": "ipython3",
   "version": "3.9.13"
  }
 },
 "nbformat": 4,
 "nbformat_minor": 5
}
