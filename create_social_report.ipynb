{
 "cells": [
  {
   "cell_type": "code",
   "execution_count": 280,
   "id": "9f8f4bac",
   "metadata": {},
   "outputs": [
    {
     "data": {
      "text/plain": [
       "'\\nСкрипт для создания отчета по форме БРИТ\\n'"
      ]
     },
     "execution_count": 280,
     "metadata": {},
     "output_type": "execute_result"
    }
   ],
   "source": [
    "\"\"\"\n",
    "Скрипт для создания отчета по форме БРИТ\n",
    "\"\"\""
   ]
  },
  {
   "cell_type": "code",
   "execution_count": 281,
   "id": "8f895b57",
   "metadata": {},
   "outputs": [],
   "source": [
    "import pandas as pd"
   ]
  },
  {
   "cell_type": "code",
   "execution_count": 282,
   "id": "6447a62d",
   "metadata": {},
   "outputs": [],
   "source": [
    "check_cols = {'Статус_учёба','Статус_Сиротство','Статус_Уровень_здоровья'} # проверяемые колонки\n",
    "dct_name_sheet = dict() # словарь где ключ это названия листа а значение датафрейм на основе которого был произведен подсчет"
   ]
  },
  {
   "cell_type": "code",
   "execution_count": null,
   "id": "3438f260",
   "metadata": {},
   "outputs": [],
   "source": []
  },
  {
   "cell_type": "code",
   "execution_count": 283,
   "id": "148199d4",
   "metadata": {},
   "outputs": [],
   "source": [
    "df = pd.read_excel('data/Общий файл.xlsx',dtype=str)\n",
    "df.fillna('Нет статуса',inplace=True) # заполняем Наны\n",
    "group_main_df = pd.DataFrame(index=list(df['Файл'].unique()))\n",
    "group_main_df.index.name = 'Файл'"
   ]
  },
  {
   "cell_type": "code",
   "execution_count": 284,
   "id": "7c599011",
   "metadata": {},
   "outputs": [],
   "source": [
    "# Отбрасываем на всякий случай отчисленных\n",
    "df = df[df['Статус_учёба']!= 'Отчислен']"
   ]
  },
  {
   "cell_type": "code",
   "execution_count": 285,
   "id": "73e171bd",
   "metadata": {},
   "outputs": [
    {
     "data": {
      "text/plain": [
       "Нет статуса                                                       201\n",
       "гособеспечение + постинтернатное сопровождение                     24\n",
       "дети-сироты, находящиеся на полном государственном обеспечении     15\n",
       "дети-сироты, находящиеся под опекой                                12\n",
       "Name: Статус_Сиротство, dtype: int64"
      ]
     },
     "execution_count": 285,
     "metadata": {},
     "output_type": "execute_result"
    }
   ],
   "source": [
    "df['Статус_Сиротство'].value_counts()"
   ]
  },
  {
   "cell_type": "code",
   "execution_count": 286,
   "id": "b3c3e9de",
   "metadata": {},
   "outputs": [],
   "source": [
    "# Создаем датафрейм с сиротами\n",
    "orphans_df = df[df['Статус_Сиротство'].isin(['гособеспечение + постинтернатное сопровождение','дети-сироты, находящиеся на полном государственном обеспечении',\n",
    "                                                     'дети-сироты, находящиеся под опекой'])]\n",
    "\n",
    "dct_name_sheet['Сироты'] = orphans_df # добавляем в словарь\n",
    "orphans_group_df = orphans_df.groupby(by=['Файл']).agg({'Статус_Сиротство':'count'}) # создаем базовый \n",
    "group_main_df = group_main_df.join(orphans_group_df) # добавляем в свод\n",
    "group_main_df.rename(columns={'Статус_Сиротство':'Дети-сироты'},inplace=True)"
   ]
  },
  {
   "cell_type": "code",
   "execution_count": null,
   "id": "600aa35a",
   "metadata": {},
   "outputs": [],
   "source": []
  },
  {
   "cell_type": "code",
   "execution_count": 287,
   "id": "fb77cd0e",
   "metadata": {},
   "outputs": [
    {
     "data": {
      "text/html": [
       "<div>\n",
       "<style scoped>\n",
       "    .dataframe tbody tr th:only-of-type {\n",
       "        vertical-align: middle;\n",
       "    }\n",
       "\n",
       "    .dataframe tbody tr th {\n",
       "        vertical-align: top;\n",
       "    }\n",
       "\n",
       "    .dataframe thead th {\n",
       "        text-align: right;\n",
       "    }\n",
       "</style>\n",
       "<table border=\"1\" class=\"dataframe\">\n",
       "  <thead>\n",
       "    <tr style=\"text-align: right;\">\n",
       "      <th></th>\n",
       "      <th>Дети-сироты</th>\n",
       "    </tr>\n",
       "    <tr>\n",
       "      <th>Файл</th>\n",
       "      <th></th>\n",
       "    </tr>\n",
       "  </thead>\n",
       "  <tbody>\n",
       "    <tr>\n",
       "      <th>Железнодорожного транспорта</th>\n",
       "      <td>9.0</td>\n",
       "    </tr>\n",
       "    <tr>\n",
       "      <th>Энергоснабжения</th>\n",
       "      <td>13.0</td>\n",
       "    </tr>\n",
       "    <tr>\n",
       "      <th>Металлообработки</th>\n",
       "      <td>29.0</td>\n",
       "    </tr>\n",
       "    <tr>\n",
       "      <th>Хоринский филиал</th>\n",
       "      <td>NaN</td>\n",
       "    </tr>\n",
       "  </tbody>\n",
       "</table>\n",
       "</div>"
      ],
      "text/plain": [
       "                             Дети-сироты\n",
       "Файл                                    \n",
       "Железнодорожного транспорта          9.0\n",
       "Энергоснабжения                     13.0\n",
       "Металлообработки                    29.0\n",
       "Хоринский филиал                     NaN"
      ]
     },
     "execution_count": 287,
     "metadata": {},
     "output_type": "execute_result"
    }
   ],
   "source": [
    "group_main_df"
   ]
  },
  {
   "cell_type": "code",
   "execution_count": 288,
   "id": "3cc25b15",
   "metadata": {},
   "outputs": [],
   "source": [
    "# Создаем датафрейм с сиротами\n",
    "invalid_df = df[df['Статус_Уровень_здоровья'].isin(['Инвалид детства','Инвалид 1,2,3, группы'])]\n",
    "\n",
    "dct_name_sheet['Инвалиды'] = invalid_df # добавляем в словарь\n",
    "invalid_group_df = invalid_df.groupby(by=['Файл']).agg({'Статус_Уровень_здоровья':'count'}) # создаем базовый \n",
    "group_main_df = group_main_df.join(invalid_group_df) # добавляем в свод\n",
    "group_main_df.rename(columns={'Статус_Уровень_здоровья':'Инвалиды'},inplace=True)"
   ]
  },
  {
   "cell_type": "code",
   "execution_count": 289,
   "id": "efb47418",
   "metadata": {},
   "outputs": [
    {
     "data": {
      "text/html": [
       "<div>\n",
       "<style scoped>\n",
       "    .dataframe tbody tr th:only-of-type {\n",
       "        vertical-align: middle;\n",
       "    }\n",
       "\n",
       "    .dataframe tbody tr th {\n",
       "        vertical-align: top;\n",
       "    }\n",
       "\n",
       "    .dataframe thead th {\n",
       "        text-align: right;\n",
       "    }\n",
       "</style>\n",
       "<table border=\"1\" class=\"dataframe\">\n",
       "  <thead>\n",
       "    <tr style=\"text-align: right;\">\n",
       "      <th></th>\n",
       "      <th>Дети-сироты</th>\n",
       "      <th>Инвалиды</th>\n",
       "    </tr>\n",
       "    <tr>\n",
       "      <th>Файл</th>\n",
       "      <th></th>\n",
       "      <th></th>\n",
       "    </tr>\n",
       "  </thead>\n",
       "  <tbody>\n",
       "    <tr>\n",
       "      <th>Железнодорожного транспорта</th>\n",
       "      <td>9.0</td>\n",
       "      <td>10</td>\n",
       "    </tr>\n",
       "    <tr>\n",
       "      <th>Энергоснабжения</th>\n",
       "      <td>13.0</td>\n",
       "      <td>10</td>\n",
       "    </tr>\n",
       "    <tr>\n",
       "      <th>Металлообработки</th>\n",
       "      <td>29.0</td>\n",
       "      <td>22</td>\n",
       "    </tr>\n",
       "    <tr>\n",
       "      <th>Хоринский филиал</th>\n",
       "      <td>NaN</td>\n",
       "      <td>3</td>\n",
       "    </tr>\n",
       "  </tbody>\n",
       "</table>\n",
       "</div>"
      ],
      "text/plain": [
       "                             Дети-сироты  Инвалиды\n",
       "Файл                                              \n",
       "Железнодорожного транспорта          9.0        10\n",
       "Энергоснабжения                     13.0        10\n",
       "Металлообработки                    29.0        22\n",
       "Хоринский филиал                     NaN         3"
      ]
     },
     "execution_count": 289,
     "metadata": {},
     "output_type": "execute_result"
    }
   ],
   "source": [
    "group_main_df"
   ]
  },
  {
   "cell_type": "code",
   "execution_count": 290,
   "id": "e99f1765",
   "metadata": {},
   "outputs": [
    {
     "name": "stdout",
     "output_type": "stream",
     "text": [
      "(252, 53)\n",
      "(30, 53)\n"
     ]
    }
   ],
   "source": [
    "# Создаем датафрейм с получателями социальной стипендии\n",
    "print(df.shape)\n",
    "soc_benefit_df = df[df['Статус_соц_стипендия'].isin(['да'])]\n",
    "print(soc_benefit_df.shape)\n",
    "dct_name_sheet['Соц. стипендия Все'] = soc_benefit_df # добавляем в словарь\n",
    "\n",
    "\n",
    "\n"
   ]
  },
  {
   "cell_type": "code",
   "execution_count": 291,
   "id": "e74effd0",
   "metadata": {},
   "outputs": [],
   "source": [
    "# получаем малоимущих\n",
    "poor_soc_benefit_df = soc_benefit_df[soc_benefit_df['Статус_Соц_положение_семьи'].isin(['Малоимущая'])]\n",
    "dct_name_sheet['Соц. стипендия Малоим.'] = poor_soc_benefit_df\n",
    "poor_soc_benefit_group_df = poor_soc_benefit_df.groupby(by=['Файл']).agg({'Статус_Соц_положение_семьи':'count'})\n",
    "group_main_df = group_main_df.join(poor_soc_benefit_group_df) # добавляем в свод\n",
    "group_main_df.rename(columns={'Статус_Соц_положение_семьи':'Соц. стипендия малоимущие'},inplace=True)\n"
   ]
  },
  {
   "cell_type": "code",
   "execution_count": 292,
   "id": "75723d94",
   "metadata": {},
   "outputs": [],
   "source": [
    "# получаем детей сирот\n",
    "orphans_soc_benefit_df = soc_benefit_df[soc_benefit_df['Статус_Сиротство'].isin(['гособеспечение + постинтернатное сопровождение','дети-сироты, находящиеся на полном государственном обеспечении',\n",
    "                                                     'дети-сироты, находящиеся под опекой'])]\n",
    "dct_name_sheet['Соц. стипендия Сироты'] = orphans_soc_benefit_df\n",
    "orphans_soc_benefit_group_df = orphans_soc_benefit_df.groupby(by=['Файл']).agg({'Статус_Сиротство':'count'})\n",
    "group_main_df = group_main_df.join(orphans_soc_benefit_group_df) # добавляем в свод\n",
    "group_main_df.rename(columns={'Статус_Сиротство':'Соц. стипендия дети-сироты'},inplace=True)"
   ]
  },
  {
   "cell_type": "code",
   "execution_count": 293,
   "id": "4a814743",
   "metadata": {},
   "outputs": [],
   "source": [
    "# получаем инвалидов\n",
    "invalid_soc_benefit_df = soc_benefit_df[soc_benefit_df['Статус_Уровень_здоровья'].isin(['Инвалид детства','Инвалид 1,2,3, группы'])]\n",
    "dct_name_sheet['Соц. стипендия Инвалиды'] = invalid_soc_benefit_df\n",
    "invalid_soc_benefit_group_df = invalid_soc_benefit_df.groupby(by=['Файл']).agg({'Статус_Уровень_здоровья':'count'})\n",
    "group_main_df = group_main_df.join(invalid_soc_benefit_group_df) # добавляем в свод\n",
    "group_main_df.rename(columns={'Статус_Уровень_здоровья':'Соц. стипендия инвалиды'},inplace=True)"
   ]
  },
  {
   "cell_type": "code",
   "execution_count": null,
   "id": "3835b685",
   "metadata": {},
   "outputs": [],
   "source": []
  },
  {
   "cell_type": "code",
   "execution_count": null,
   "id": "75acbf82",
   "metadata": {},
   "outputs": [],
   "source": []
  },
  {
   "cell_type": "code",
   "execution_count": 294,
   "id": "93c1e84b",
   "metadata": {},
   "outputs": [
    {
     "name": "stdout",
     "output_type": "stream",
     "text": [
      "(252, 53)\n",
      "(60, 53)\n"
     ]
    }
   ],
   "source": [
    "# Создаем датафрейм с получателями бесплатного питания\n",
    "print(df.shape)\n",
    "eating_df = df[df['Статус_питание'].isin(['получает компенсацию за питание','питается в БРИТ'])]\n",
    "print(eating_df.shape)\n",
    "dct_name_sheet['Соц. стипендия Все'] = eating_df # добавляем в словарь"
   ]
  },
  {
   "cell_type": "code",
   "execution_count": 295,
   "id": "d8b3b2dc",
   "metadata": {},
   "outputs": [],
   "source": [
    "# получаем малоимущих\n",
    "poor_eating_df = eating_df[eating_df['Статус_Соц_положение_семьи'].isin(['Малоимущая'])]\n",
    "dct_name_sheet['Питание Малоим.'] = poor_eating_df\n",
    "poor_eating_group_df = poor_eating_df.groupby(by=['Файл']).agg({'Статус_Соц_положение_семьи':'count'})\n",
    "group_main_df = group_main_df.join(poor_eating_group_df) # добавляем в свод\n",
    "group_main_df.rename(columns={'Статус_Соц_положение_семьи':'Питание малоимущие'},inplace=True)"
   ]
  },
  {
   "cell_type": "code",
   "execution_count": null,
   "id": "e2fc4c52",
   "metadata": {},
   "outputs": [],
   "source": []
  },
  {
   "cell_type": "code",
   "execution_count": null,
   "id": "8be8a21e",
   "metadata": {},
   "outputs": [],
   "source": []
  },
  {
   "cell_type": "code",
   "execution_count": null,
   "id": "e6b36e8f",
   "metadata": {},
   "outputs": [],
   "source": []
  },
  {
   "cell_type": "code",
   "execution_count": 296,
   "id": "6401cf21",
   "metadata": {},
   "outputs": [
    {
     "data": {
      "text/html": [
       "<div>\n",
       "<style scoped>\n",
       "    .dataframe tbody tr th:only-of-type {\n",
       "        vertical-align: middle;\n",
       "    }\n",
       "\n",
       "    .dataframe tbody tr th {\n",
       "        vertical-align: top;\n",
       "    }\n",
       "\n",
       "    .dataframe thead th {\n",
       "        text-align: right;\n",
       "    }\n",
       "</style>\n",
       "<table border=\"1\" class=\"dataframe\">\n",
       "  <thead>\n",
       "    <tr style=\"text-align: right;\">\n",
       "      <th></th>\n",
       "      <th>Дети-сироты</th>\n",
       "      <th>Инвалиды</th>\n",
       "      <th>Соц. стипендия малоимущие</th>\n",
       "      <th>Соц. стипендия дети-сироты</th>\n",
       "      <th>Соц. стипендия инвалиды</th>\n",
       "      <th>Питание малоимущие</th>\n",
       "    </tr>\n",
       "    <tr>\n",
       "      <th>Файл</th>\n",
       "      <th></th>\n",
       "      <th></th>\n",
       "      <th></th>\n",
       "      <th></th>\n",
       "      <th></th>\n",
       "      <th></th>\n",
       "    </tr>\n",
       "  </thead>\n",
       "  <tbody>\n",
       "    <tr>\n",
       "      <th>Железнодорожного транспорта</th>\n",
       "      <td>9.0</td>\n",
       "      <td>10</td>\n",
       "      <td>1.0</td>\n",
       "      <td>3.0</td>\n",
       "      <td>1.0</td>\n",
       "      <td>1.0</td>\n",
       "    </tr>\n",
       "    <tr>\n",
       "      <th>Энергоснабжения</th>\n",
       "      <td>13.0</td>\n",
       "      <td>10</td>\n",
       "      <td>NaN</td>\n",
       "      <td>4.0</td>\n",
       "      <td>NaN</td>\n",
       "      <td>NaN</td>\n",
       "    </tr>\n",
       "    <tr>\n",
       "      <th>Металлообработки</th>\n",
       "      <td>29.0</td>\n",
       "      <td>22</td>\n",
       "      <td>NaN</td>\n",
       "      <td>8.0</td>\n",
       "      <td>NaN</td>\n",
       "      <td>NaN</td>\n",
       "    </tr>\n",
       "    <tr>\n",
       "      <th>Хоринский филиал</th>\n",
       "      <td>NaN</td>\n",
       "      <td>3</td>\n",
       "      <td>NaN</td>\n",
       "      <td>NaN</td>\n",
       "      <td>1.0</td>\n",
       "      <td>2.0</td>\n",
       "    </tr>\n",
       "  </tbody>\n",
       "</table>\n",
       "</div>"
      ],
      "text/plain": [
       "                             Дети-сироты  Инвалиды  Соц. стипендия малоимущие  \\\n",
       "Файл                                                                            \n",
       "Железнодорожного транспорта          9.0        10                        1.0   \n",
       "Энергоснабжения                     13.0        10                        NaN   \n",
       "Металлообработки                    29.0        22                        NaN   \n",
       "Хоринский филиал                     NaN         3                        NaN   \n",
       "\n",
       "                             Соц. стипендия дети-сироты  \\\n",
       "Файл                                                      \n",
       "Железнодорожного транспорта                         3.0   \n",
       "Энергоснабжения                                     4.0   \n",
       "Металлообработки                                    8.0   \n",
       "Хоринский филиал                                    NaN   \n",
       "\n",
       "                             Соц. стипендия инвалиды  Питание малоимущие  \n",
       "Файл                                                                      \n",
       "Железнодорожного транспорта                      1.0                 1.0  \n",
       "Энергоснабжения                                  NaN                 NaN  \n",
       "Металлообработки                                 NaN                 NaN  \n",
       "Хоринский филиал                                 1.0                 2.0  "
      ]
     },
     "execution_count": 296,
     "metadata": {},
     "output_type": "execute_result"
    }
   ],
   "source": [
    "group_main_df"
   ]
  },
  {
   "cell_type": "code",
   "execution_count": null,
   "id": "8620cf82",
   "metadata": {},
   "outputs": [],
   "source": []
  },
  {
   "cell_type": "code",
   "execution_count": null,
   "id": "74aa0d13",
   "metadata": {},
   "outputs": [],
   "source": []
  },
  {
   "cell_type": "code",
   "execution_count": null,
   "id": "580fd76b",
   "metadata": {},
   "outputs": [],
   "source": []
  },
  {
   "cell_type": "code",
   "execution_count": null,
   "id": "3cd15c3c",
   "metadata": {},
   "outputs": [],
   "source": []
  },
  {
   "cell_type": "code",
   "execution_count": null,
   "id": "2cdb0cd7",
   "metadata": {},
   "outputs": [],
   "source": []
  },
  {
   "cell_type": "code",
   "execution_count": null,
   "id": "349c1886",
   "metadata": {},
   "outputs": [],
   "source": []
  },
  {
   "cell_type": "code",
   "execution_count": null,
   "id": "1953b59f",
   "metadata": {},
   "outputs": [],
   "source": []
  },
  {
   "cell_type": "code",
   "execution_count": null,
   "id": "365252b9",
   "metadata": {},
   "outputs": [],
   "source": []
  }
 ],
 "metadata": {
  "kernelspec": {
   "display_name": "Python 3 (ipykernel)",
   "language": "python",
   "name": "python3"
  },
  "language_info": {
   "codemirror_mode": {
    "name": "ipython",
    "version": 3
   },
   "file_extension": ".py",
   "mimetype": "text/x-python",
   "name": "python",
   "nbconvert_exporter": "python",
   "pygments_lexer": "ipython3",
   "version": "3.9.13"
  }
 },
 "nbformat": 4,
 "nbformat_minor": 5
}
