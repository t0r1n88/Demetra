{
 "cells": [
  {
   "cell_type": "code",
   "execution_count": 1536,
   "id": "9f8f4bac",
   "metadata": {},
   "outputs": [
    {
     "data": {
      "text/plain": [
       "'\\nСкрипт для создания отчета по форме БРИТ\\n'"
      ]
     },
     "execution_count": 1536,
     "metadata": {},
     "output_type": "execute_result"
    }
   ],
   "source": [
    "\"\"\"\n",
    "Скрипт для создания отчета по форме БРИТ\n",
    "\"\"\""
   ]
  },
  {
   "cell_type": "code",
   "execution_count": 1537,
   "id": "8f895b57",
   "metadata": {},
   "outputs": [],
   "source": [
    "import pandas as pd"
   ]
  },
  {
   "cell_type": "code",
   "execution_count": 1538,
   "id": "596643f6",
   "metadata": {},
   "outputs": [],
   "source": [
    "def count_value(group:pd.Series,target_value:str):\n",
    "    \"\"\"\n",
    "    Функция для группировки по конкретному значению\n",
    "    Возвращает количество значений target_value в группе\n",
    "    \"\"\"\n",
    "    # считаем сколько значений подходят по условие\n",
    "    count_group = group.str.contains(target_value)\n",
    "    return sum(count_group)\n"
   ]
  },
  {
   "cell_type": "code",
   "execution_count": 1539,
   "id": "6447a62d",
   "metadata": {},
   "outputs": [],
   "source": [
    "check_cols = {'Статус_учёба','Статус_Сиротство','Статус_Уровень_здоровья'} # проверяемые колонки\n",
    "dct_name_sheet = dict() # словарь где ключ это названия листа а значение датафрейм на основе которого был произведен подсчет"
   ]
  },
  {
   "cell_type": "code",
   "execution_count": null,
   "id": "3438f260",
   "metadata": {},
   "outputs": [],
   "source": []
  },
  {
   "cell_type": "code",
   "execution_count": 1540,
   "id": "148199d4",
   "metadata": {},
   "outputs": [
    {
     "name": "stderr",
     "output_type": "stream",
     "text": [
      "C:\\Users\\1\\anaconda3\\lib\\site-packages\\openpyxl\\worksheet\\_read_only.py:79: UserWarning: Data Validation extension is not supported and will be removed\n",
      "  for idx, row in parser.parse():\n"
     ]
    }
   ],
   "source": [
    "df = pd.read_excel('data/Общий файл.xlsx',dtype=str)\n",
    "df.fillna('Нет статуса',inplace=True) # заполняем Наны\n",
    "group_main_df = pd.DataFrame(index=list(df['Файл'].unique()))\n",
    "group_main_df.index.name = 'Файл'"
   ]
  },
  {
   "cell_type": "code",
   "execution_count": 1541,
   "id": "7c599011",
   "metadata": {},
   "outputs": [],
   "source": [
    "# Отбрасываем на всякий случай отчисленных\n",
    "df = df[df['Статус_учёба']!= 'Отчислен']"
   ]
  },
  {
   "cell_type": "code",
   "execution_count": 1542,
   "id": "b3c3e9de",
   "metadata": {},
   "outputs": [],
   "source": [
    "# Создаем датафрейм с сиротами\n",
    "orphans_df = df[df['Статус_Сиротство'].isin(['гособеспечение + постинтернатное сопровождение','дети-сироты, находящиеся на полном государственном обеспечении',\n",
    "                                                     'дети-сироты, находящиеся под опекой'])]\n",
    "\n",
    "dct_name_sheet['Сироты'] = orphans_df # добавляем в словарь\n",
    "orphans_group_df = orphans_df.groupby(by=['Файл']).agg({'Статус_Сиротство':'count'}) # создаем базовый \n",
    "group_main_df = group_main_df.join(orphans_group_df) # добавляем в свод\n",
    "group_main_df.rename(columns={'Статус_Сиротство':'Дети-сироты'},inplace=True)"
   ]
  },
  {
   "cell_type": "code",
   "execution_count": null,
   "id": "600aa35a",
   "metadata": {},
   "outputs": [],
   "source": []
  },
  {
   "cell_type": "code",
   "execution_count": 1543,
   "id": "fb77cd0e",
   "metadata": {},
   "outputs": [
    {
     "data": {
      "text/html": [
       "<div>\n",
       "<style scoped>\n",
       "    .dataframe tbody tr th:only-of-type {\n",
       "        vertical-align: middle;\n",
       "    }\n",
       "\n",
       "    .dataframe tbody tr th {\n",
       "        vertical-align: top;\n",
       "    }\n",
       "\n",
       "    .dataframe thead th {\n",
       "        text-align: right;\n",
       "    }\n",
       "</style>\n",
       "<table border=\"1\" class=\"dataframe\">\n",
       "  <thead>\n",
       "    <tr style=\"text-align: right;\">\n",
       "      <th></th>\n",
       "      <th>Дети-сироты</th>\n",
       "    </tr>\n",
       "    <tr>\n",
       "      <th>Файл</th>\n",
       "      <th></th>\n",
       "    </tr>\n",
       "  </thead>\n",
       "  <tbody>\n",
       "    <tr>\n",
       "      <th>Железнодорожного транспорта</th>\n",
       "      <td>9</td>\n",
       "    </tr>\n",
       "    <tr>\n",
       "      <th>Энергоснабжения</th>\n",
       "      <td>13</td>\n",
       "    </tr>\n",
       "    <tr>\n",
       "      <th>Металлообработки</th>\n",
       "      <td>29</td>\n",
       "    </tr>\n",
       "    <tr>\n",
       "      <th>Хоринский филиал</th>\n",
       "      <td>3</td>\n",
       "    </tr>\n",
       "  </tbody>\n",
       "</table>\n",
       "</div>"
      ],
      "text/plain": [
       "                             Дети-сироты\n",
       "Файл                                    \n",
       "Железнодорожного транспорта            9\n",
       "Энергоснабжения                       13\n",
       "Металлообработки                      29\n",
       "Хоринский филиал                       3"
      ]
     },
     "execution_count": 1543,
     "metadata": {},
     "output_type": "execute_result"
    }
   ],
   "source": [
    "group_main_df"
   ]
  },
  {
   "cell_type": "code",
   "execution_count": 1544,
   "id": "3cc25b15",
   "metadata": {},
   "outputs": [],
   "source": [
    "# Создаем датафрейм с сиротами\n",
    "invalid_df = df[df['Статус_Уровень_здоровья'].isin(['Инвалид детства','Инвалид 1,2,3, группы'])]\n",
    "\n",
    "dct_name_sheet['Инвалиды'] = invalid_df # добавляем в словарь\n",
    "invalid_group_df = invalid_df.groupby(by=['Файл']).agg({'Статус_Уровень_здоровья':'count'}) # создаем базовый \n",
    "group_main_df = group_main_df.join(invalid_group_df) # добавляем в свод\n",
    "group_main_df.rename(columns={'Статус_Уровень_здоровья':'Инвалиды'},inplace=True)"
   ]
  },
  {
   "cell_type": "code",
   "execution_count": 1545,
   "id": "4c3d1080",
   "metadata": {},
   "outputs": [
    {
     "data": {
      "text/html": [
       "<div>\n",
       "<style scoped>\n",
       "    .dataframe tbody tr th:only-of-type {\n",
       "        vertical-align: middle;\n",
       "    }\n",
       "\n",
       "    .dataframe tbody tr th {\n",
       "        vertical-align: top;\n",
       "    }\n",
       "\n",
       "    .dataframe thead th {\n",
       "        text-align: right;\n",
       "    }\n",
       "</style>\n",
       "<table border=\"1\" class=\"dataframe\">\n",
       "  <thead>\n",
       "    <tr style=\"text-align: right;\">\n",
       "      <th></th>\n",
       "      <th>Дети-сироты</th>\n",
       "      <th>Инвалиды</th>\n",
       "    </tr>\n",
       "    <tr>\n",
       "      <th>Файл</th>\n",
       "      <th></th>\n",
       "      <th></th>\n",
       "    </tr>\n",
       "  </thead>\n",
       "  <tbody>\n",
       "    <tr>\n",
       "      <th>Железнодорожного транспорта</th>\n",
       "      <td>9</td>\n",
       "      <td>10</td>\n",
       "    </tr>\n",
       "    <tr>\n",
       "      <th>Энергоснабжения</th>\n",
       "      <td>13</td>\n",
       "      <td>10</td>\n",
       "    </tr>\n",
       "    <tr>\n",
       "      <th>Металлообработки</th>\n",
       "      <td>29</td>\n",
       "      <td>22</td>\n",
       "    </tr>\n",
       "    <tr>\n",
       "      <th>Хоринский филиал</th>\n",
       "      <td>3</td>\n",
       "      <td>3</td>\n",
       "    </tr>\n",
       "  </tbody>\n",
       "</table>\n",
       "</div>"
      ],
      "text/plain": [
       "                             Дети-сироты  Инвалиды\n",
       "Файл                                              \n",
       "Железнодорожного транспорта            9        10\n",
       "Энергоснабжения                       13        10\n",
       "Металлообработки                      29        22\n",
       "Хоринский филиал                       3         3"
      ]
     },
     "execution_count": 1545,
     "metadata": {},
     "output_type": "execute_result"
    }
   ],
   "source": [
    "group_main_df"
   ]
  },
  {
   "cell_type": "code",
   "execution_count": 1546,
   "id": "0b3e545e",
   "metadata": {},
   "outputs": [
    {
     "name": "stdout",
     "output_type": "stream",
     "text": [
      "(252, 53)\n",
      "(30, 53)\n"
     ]
    }
   ],
   "source": [
    "# Создаем датафрейм с получателями социальной стипендии\n",
    "print(df.shape)\n",
    "soc_benefit_df = df[df['Статус_соц_стипендия'].isin(['да'])]\n",
    "print(soc_benefit_df.shape)\n",
    "dct_name_sheet['Соц. стипендия Все'] = soc_benefit_df # добавляем в словарь\n",
    "\n",
    "\n",
    "\n"
   ]
  },
  {
   "cell_type": "code",
   "execution_count": 1547,
   "id": "eb0585c6",
   "metadata": {},
   "outputs": [],
   "source": [
    "# получаем малоимущих\n",
    "poor_soc_benefit_df = soc_benefit_df[soc_benefit_df['Статус_Соц_положение_семьи'].isin(['Малоимущая'])]\n",
    "dct_name_sheet['Соц. стипендия малоим.'] = poor_soc_benefit_df\n",
    "poor_soc_benefit_group_df = poor_soc_benefit_df.groupby(by=['Файл']).agg({'Статус_Соц_положение_семьи':'count'})\n",
    "group_main_df = group_main_df.join(poor_soc_benefit_group_df) # добавляем в свод\n",
    "group_main_df.rename(columns={'Статус_Соц_положение_семьи':'Соц. стипендия малоимущие'},inplace=True)\n"
   ]
  },
  {
   "cell_type": "code",
   "execution_count": 1548,
   "id": "79e07130",
   "metadata": {},
   "outputs": [],
   "source": [
    "# получаем детей сирот\n",
    "orphans_soc_benefit_df = soc_benefit_df[soc_benefit_df['Статус_Сиротство'].isin(['гособеспечение + постинтернатное сопровождение','дети-сироты, находящиеся на полном государственном обеспечении',\n",
    "                                                     'дети-сироты, находящиеся под опекой'])]\n",
    "dct_name_sheet['Соц. стипендия сироты'] = orphans_soc_benefit_df\n",
    "orphans_soc_benefit_group_df = orphans_soc_benefit_df.groupby(by=['Файл']).agg({'Статус_Сиротство':'count'})\n",
    "group_main_df = group_main_df.join(orphans_soc_benefit_group_df) # добавляем в свод\n",
    "group_main_df.rename(columns={'Статус_Сиротство':'Соц. стипендия дети-сироты'},inplace=True)"
   ]
  },
  {
   "cell_type": "code",
   "execution_count": 1549,
   "id": "09f447c0",
   "metadata": {},
   "outputs": [],
   "source": [
    "# получаем инвалидов\n",
    "invalid_soc_benefit_df = soc_benefit_df[soc_benefit_df['Статус_Уровень_здоровья'].isin(['Инвалид детства','Инвалид 1,2,3, группы'])]\n",
    "dct_name_sheet['Соц. стипендия инвалиды'] = invalid_soc_benefit_df\n",
    "invalid_soc_benefit_group_df = invalid_soc_benefit_df.groupby(by=['Файл']).agg({'Статус_Уровень_здоровья':'count'})\n",
    "group_main_df = group_main_df.join(invalid_soc_benefit_group_df) # добавляем в свод\n",
    "group_main_df.rename(columns={'Статус_Уровень_здоровья':'Соц. стипендия инвалиды'},inplace=True)"
   ]
  },
  {
   "cell_type": "code",
   "execution_count": null,
   "id": "678bc23f",
   "metadata": {},
   "outputs": [],
   "source": []
  },
  {
   "cell_type": "code",
   "execution_count": null,
   "id": "9ca83420",
   "metadata": {},
   "outputs": [],
   "source": []
  },
  {
   "cell_type": "code",
   "execution_count": 1550,
   "id": "43464764",
   "metadata": {},
   "outputs": [
    {
     "name": "stdout",
     "output_type": "stream",
     "text": [
      "(252, 53)\n",
      "(60, 53)\n"
     ]
    }
   ],
   "source": [
    "# Создаем датафрейм с получателями бесплатного питания\n",
    "print(df.shape)\n",
    "eating_df = df[df['Статус_питание'].isin(['получает компенсацию за питание','питается в БРИТ'])]\n",
    "print(eating_df.shape)\n",
    "dct_name_sheet['Соц. стипендия Все'] = eating_df # добавляем в словарь"
   ]
  },
  {
   "cell_type": "code",
   "execution_count": 1551,
   "id": "e27059fe",
   "metadata": {},
   "outputs": [],
   "source": [
    "# получаем малоимущих\n",
    "poor_eating_df = eating_df[eating_df['Статус_Соц_положение_семьи'].isin(['Малоимущая'])]\n",
    "dct_name_sheet['Питание малоим.'] = poor_eating_df\n",
    "poor_eating_group_df = poor_eating_df.groupby(by=['Файл']).agg({'Статус_Соц_положение_семьи':'count'})\n",
    "group_main_df = group_main_df.join(poor_eating_group_df) # добавляем в свод\n",
    "group_main_df.rename(columns={'Статус_Соц_положение_семьи':'Питание малоимущие'},inplace=True)"
   ]
  },
  {
   "cell_type": "code",
   "execution_count": 1552,
   "id": "ae12e5a6",
   "metadata": {},
   "outputs": [],
   "source": [
    "# получаем сирот\n",
    "orphans_eating_df = eating_df[eating_df['Статус_Сиротство'].isin(['гособеспечение + постинтернатное сопровождение','дети-сироты, находящиеся на полном государственном обеспечении',\n",
    "                                                     'дети-сироты, находящиеся под опекой'])]\n",
    "dct_name_sheet['Питание сироты'] = orphans_eating_df\n",
    "orphans_eating_group_df = orphans_eating_df.groupby(by=['Файл']).agg({'Статус_Сиротство':'count'})\n",
    "group_main_df = group_main_df.join(orphans_eating_group_df) # добавляем в свод\n",
    "group_main_df.rename(columns={'Статус_Сиротство':'Питание сироты'},inplace=True)"
   ]
  },
  {
   "cell_type": "code",
   "execution_count": 1553,
   "id": "436d8bb0",
   "metadata": {},
   "outputs": [],
   "source": [
    "# получаем инвалидов\n",
    "invalid_eating_df = eating_df[eating_df['Статус_Уровень_здоровья'].isin(['Инвалид детства','Инвалид 1,2,3, группы'])]\n",
    "dct_name_sheet['Питание инвалиды'] = invalid_eating_df\n",
    "invalid_eating_group_df = invalid_eating_df.groupby(by=['Файл']).agg({'Статус_Уровень_здоровья':'count'})\n",
    "group_main_df = group_main_df.join(invalid_eating_group_df) # добавляем в свод\n",
    "group_main_df.rename(columns={'Статус_Уровень_здоровья':'Питание инвалиды'},inplace=True)"
   ]
  },
  {
   "cell_type": "code",
   "execution_count": 1554,
   "id": "3c8ce0a7",
   "metadata": {},
   "outputs": [],
   "source": [
    "# получаем СВО\n",
    "svo_eating_df = eating_df[eating_df['Статус_родитель_СВО'].isin(['да'])]\n",
    "dct_name_sheet['Питание СВО'] = svo_eating_df\n",
    "svo_eating_group_df = svo_eating_df.groupby(by=['Файл']).agg({'Статус_родитель_СВО':'count'})\n",
    "group_main_df = group_main_df.join(svo_eating_group_df) # добавляем в свод\n",
    "group_main_df.rename(columns={'Статус_родитель_СВО':'Питание СВО'},inplace=True)"
   ]
  },
  {
   "cell_type": "code",
   "execution_count": null,
   "id": "ddbf6b1d",
   "metadata": {},
   "outputs": [],
   "source": []
  },
  {
   "cell_type": "code",
   "execution_count": null,
   "id": "4e439a82",
   "metadata": {},
   "outputs": [],
   "source": []
  },
  {
   "cell_type": "code",
   "execution_count": 1555,
   "id": "7a064355",
   "metadata": {},
   "outputs": [
    {
     "name": "stdout",
     "output_type": "stream",
     "text": [
      "(252, 53)\n",
      "(71, 53)\n"
     ]
    }
   ],
   "source": [
    "# Создаем датафрейм с проживающими в общежитии\n",
    "print(df.shape)\n",
    "dormitory_df = df[df['Статус_общежитие'].isin(['да'])]\n",
    "print(dormitory_df.shape)\n",
    "dct_name_sheet['Общежитие все'] = dormitory_df # добавляем в словарь\n",
    "dormitory_group_df = dormitory_df.groupby(by=['Файл']).agg({'Статус_общежитие':'count'})\n",
    "group_main_df = group_main_df.join(dormitory_group_df) # добавляем в свод\n",
    "group_main_df.rename(columns={'Статус_общежитие':'Общежитие Всего'},inplace=True)"
   ]
  },
  {
   "cell_type": "code",
   "execution_count": 1556,
   "id": "be2252eb",
   "metadata": {},
   "outputs": [],
   "source": [
    "# получаем не сирот и сохраняем для списка\n",
    "not_orphans_dormitory_df = dormitory_df[~dormitory_df['Статус_Сиротство'].isin(['гособеспечение + постинтернатное сопровождение','дети-сироты, находящиеся на полном государственном обеспечении',\n",
    "                                                     'дети-сироты, находящиеся под опекой'])]\n",
    "dct_name_sheet['Общежитие кроме сирот'] = not_orphans_dormitory_df\n"
   ]
  },
  {
   "cell_type": "code",
   "execution_count": 1557,
   "id": "8528671b",
   "metadata": {},
   "outputs": [],
   "source": [
    "# получаем сирот\n",
    "# получаем сирот\n",
    "orphans_dormitory_df = dormitory_df[dormitory_df['Статус_Сиротство'].isin(['гособеспечение + постинтернатное сопровождение','дети-сироты, находящиеся на полном государственном обеспечении',\n",
    "                                                     'дети-сироты, находящиеся под опекой'])]\n",
    "dct_name_sheet['Питание сироты'] = orphans_dormitory_df\n",
    "orphans_dormitory_group_df = orphans_dormitory_df.groupby(by=['Файл']).agg({'Статус_Сиротство':'count'})\n",
    "group_main_df = group_main_df.join(orphans_dormitory_group_df) # добавляем в свод\n",
    "group_main_df.rename(columns={'Статус_Сиротство':'Общежитие сироты'},inplace=True)"
   ]
  },
  {
   "cell_type": "code",
   "execution_count": null,
   "id": "6ad3b2ed",
   "metadata": {},
   "outputs": [],
   "source": []
  },
  {
   "cell_type": "code",
   "execution_count": 1558,
   "id": "118c4c3a",
   "metadata": {},
   "outputs": [
    {
     "data": {
      "text/html": [
       "<div>\n",
       "<style scoped>\n",
       "    .dataframe tbody tr th:only-of-type {\n",
       "        vertical-align: middle;\n",
       "    }\n",
       "\n",
       "    .dataframe tbody tr th {\n",
       "        vertical-align: top;\n",
       "    }\n",
       "\n",
       "    .dataframe thead th {\n",
       "        text-align: right;\n",
       "    }\n",
       "</style>\n",
       "<table border=\"1\" class=\"dataframe\">\n",
       "  <thead>\n",
       "    <tr style=\"text-align: right;\">\n",
       "      <th></th>\n",
       "      <th>Дети-сироты</th>\n",
       "      <th>Инвалиды</th>\n",
       "      <th>Соц. стипендия малоимущие</th>\n",
       "      <th>Соц. стипендия дети-сироты</th>\n",
       "      <th>Соц. стипендия инвалиды</th>\n",
       "      <th>Питание малоимущие</th>\n",
       "      <th>Питание сироты</th>\n",
       "      <th>Питание инвалиды</th>\n",
       "      <th>Питание СВО</th>\n",
       "      <th>Общежитие Всего</th>\n",
       "      <th>Общежитие сироты</th>\n",
       "    </tr>\n",
       "    <tr>\n",
       "      <th>Файл</th>\n",
       "      <th></th>\n",
       "      <th></th>\n",
       "      <th></th>\n",
       "      <th></th>\n",
       "      <th></th>\n",
       "      <th></th>\n",
       "      <th></th>\n",
       "      <th></th>\n",
       "      <th></th>\n",
       "      <th></th>\n",
       "      <th></th>\n",
       "    </tr>\n",
       "  </thead>\n",
       "  <tbody>\n",
       "    <tr>\n",
       "      <th>Железнодорожного транспорта</th>\n",
       "      <td>9</td>\n",
       "      <td>10</td>\n",
       "      <td>1.0</td>\n",
       "      <td>3</td>\n",
       "      <td>1.0</td>\n",
       "      <td>1.0</td>\n",
       "      <td>3</td>\n",
       "      <td>3</td>\n",
       "      <td>2</td>\n",
       "      <td>12</td>\n",
       "      <td>5</td>\n",
       "    </tr>\n",
       "    <tr>\n",
       "      <th>Энергоснабжения</th>\n",
       "      <td>13</td>\n",
       "      <td>10</td>\n",
       "      <td>NaN</td>\n",
       "      <td>4</td>\n",
       "      <td>NaN</td>\n",
       "      <td>NaN</td>\n",
       "      <td>4</td>\n",
       "      <td>3</td>\n",
       "      <td>3</td>\n",
       "      <td>17</td>\n",
       "      <td>7</td>\n",
       "    </tr>\n",
       "    <tr>\n",
       "      <th>Металлообработки</th>\n",
       "      <td>29</td>\n",
       "      <td>22</td>\n",
       "      <td>NaN</td>\n",
       "      <td>8</td>\n",
       "      <td>NaN</td>\n",
       "      <td>NaN</td>\n",
       "      <td>8</td>\n",
       "      <td>7</td>\n",
       "      <td>7</td>\n",
       "      <td>37</td>\n",
       "      <td>15</td>\n",
       "    </tr>\n",
       "    <tr>\n",
       "      <th>Хоринский филиал</th>\n",
       "      <td>3</td>\n",
       "      <td>3</td>\n",
       "      <td>NaN</td>\n",
       "      <td>1</td>\n",
       "      <td>1.0</td>\n",
       "      <td>2.0</td>\n",
       "      <td>1</td>\n",
       "      <td>1</td>\n",
       "      <td>2</td>\n",
       "      <td>5</td>\n",
       "      <td>2</td>\n",
       "    </tr>\n",
       "  </tbody>\n",
       "</table>\n",
       "</div>"
      ],
      "text/plain": [
       "                             Дети-сироты  Инвалиды  Соц. стипендия малоимущие  \\\n",
       "Файл                                                                            \n",
       "Железнодорожного транспорта            9        10                        1.0   \n",
       "Энергоснабжения                       13        10                        NaN   \n",
       "Металлообработки                      29        22                        NaN   \n",
       "Хоринский филиал                       3         3                        NaN   \n",
       "\n",
       "                             Соц. стипендия дети-сироты  \\\n",
       "Файл                                                      \n",
       "Железнодорожного транспорта                           3   \n",
       "Энергоснабжения                                       4   \n",
       "Металлообработки                                      8   \n",
       "Хоринский филиал                                      1   \n",
       "\n",
       "                             Соц. стипендия инвалиды  Питание малоимущие  \\\n",
       "Файл                                                                       \n",
       "Железнодорожного транспорта                      1.0                 1.0   \n",
       "Энергоснабжения                                  NaN                 NaN   \n",
       "Металлообработки                                 NaN                 NaN   \n",
       "Хоринский филиал                                 1.0                 2.0   \n",
       "\n",
       "                             Питание сироты  Питание инвалиды  Питание СВО  \\\n",
       "Файл                                                                         \n",
       "Железнодорожного транспорта               3                 3            2   \n",
       "Энергоснабжения                           4                 3            3   \n",
       "Металлообработки                          8                 7            7   \n",
       "Хоринский филиал                          1                 1            2   \n",
       "\n",
       "                             Общежитие Всего  Общежитие сироты  \n",
       "Файл                                                            \n",
       "Железнодорожного транспорта               12                 5  \n",
       "Энергоснабжения                           17                 7  \n",
       "Металлообработки                          37                15  \n",
       "Хоринский филиал                           5                 2  "
      ]
     },
     "execution_count": 1558,
     "metadata": {},
     "output_type": "execute_result"
    }
   ],
   "source": [
    "group_main_df"
   ]
  },
  {
   "cell_type": "code",
   "execution_count": 1559,
   "id": "187d6700",
   "metadata": {},
   "outputs": [],
   "source": [
    "group_main_df.fillna(0,inplace=True) # заполняем наны\n",
    "group_main_df=group_main_df.astype(int) # приводим к инту\n",
    "sum_row = group_main_df.sum(axis=0) # суммируем колонки\n",
    "group_main_df.loc['Итого'] = sum_row # добавляем суммирующую колонку"
   ]
  },
  {
   "cell_type": "code",
   "execution_count": null,
   "id": "e3bd6230",
   "metadata": {},
   "outputs": [],
   "source": []
  },
  {
   "cell_type": "code",
   "execution_count": null,
   "id": "6d5ab7a5",
   "metadata": {},
   "outputs": [],
   "source": []
  },
  {
   "cell_type": "code",
   "execution_count": null,
   "id": "dd2683af",
   "metadata": {},
   "outputs": [],
   "source": []
  },
  {
   "cell_type": "code",
   "execution_count": 1560,
   "id": "3893bd51",
   "metadata": {},
   "outputs": [
    {
     "data": {
      "text/html": [
       "<div>\n",
       "<style scoped>\n",
       "    .dataframe tbody tr th:only-of-type {\n",
       "        vertical-align: middle;\n",
       "    }\n",
       "\n",
       "    .dataframe tbody tr th {\n",
       "        vertical-align: top;\n",
       "    }\n",
       "\n",
       "    .dataframe thead th {\n",
       "        text-align: right;\n",
       "    }\n",
       "</style>\n",
       "<table border=\"1\" class=\"dataframe\">\n",
       "  <thead>\n",
       "    <tr style=\"text-align: right;\">\n",
       "      <th></th>\n",
       "      <th>Дети-сироты</th>\n",
       "      <th>Инвалиды</th>\n",
       "      <th>Соц. стипендия малоимущие</th>\n",
       "      <th>Соц. стипендия дети-сироты</th>\n",
       "      <th>Соц. стипендия инвалиды</th>\n",
       "      <th>Питание малоимущие</th>\n",
       "      <th>Питание сироты</th>\n",
       "      <th>Питание инвалиды</th>\n",
       "      <th>Питание СВО</th>\n",
       "      <th>Общежитие Всего</th>\n",
       "      <th>Общежитие сироты</th>\n",
       "    </tr>\n",
       "    <tr>\n",
       "      <th>Файл</th>\n",
       "      <th></th>\n",
       "      <th></th>\n",
       "      <th></th>\n",
       "      <th></th>\n",
       "      <th></th>\n",
       "      <th></th>\n",
       "      <th></th>\n",
       "      <th></th>\n",
       "      <th></th>\n",
       "      <th></th>\n",
       "      <th></th>\n",
       "    </tr>\n",
       "  </thead>\n",
       "  <tbody>\n",
       "    <tr>\n",
       "      <th>Железнодорожного транспорта</th>\n",
       "      <td>9</td>\n",
       "      <td>10</td>\n",
       "      <td>1</td>\n",
       "      <td>3</td>\n",
       "      <td>1</td>\n",
       "      <td>1</td>\n",
       "      <td>3</td>\n",
       "      <td>3</td>\n",
       "      <td>2</td>\n",
       "      <td>12</td>\n",
       "      <td>5</td>\n",
       "    </tr>\n",
       "    <tr>\n",
       "      <th>Энергоснабжения</th>\n",
       "      <td>13</td>\n",
       "      <td>10</td>\n",
       "      <td>0</td>\n",
       "      <td>4</td>\n",
       "      <td>0</td>\n",
       "      <td>0</td>\n",
       "      <td>4</td>\n",
       "      <td>3</td>\n",
       "      <td>3</td>\n",
       "      <td>17</td>\n",
       "      <td>7</td>\n",
       "    </tr>\n",
       "    <tr>\n",
       "      <th>Металлообработки</th>\n",
       "      <td>29</td>\n",
       "      <td>22</td>\n",
       "      <td>0</td>\n",
       "      <td>8</td>\n",
       "      <td>0</td>\n",
       "      <td>0</td>\n",
       "      <td>8</td>\n",
       "      <td>7</td>\n",
       "      <td>7</td>\n",
       "      <td>37</td>\n",
       "      <td>15</td>\n",
       "    </tr>\n",
       "    <tr>\n",
       "      <th>Хоринский филиал</th>\n",
       "      <td>3</td>\n",
       "      <td>3</td>\n",
       "      <td>0</td>\n",
       "      <td>1</td>\n",
       "      <td>1</td>\n",
       "      <td>2</td>\n",
       "      <td>1</td>\n",
       "      <td>1</td>\n",
       "      <td>2</td>\n",
       "      <td>5</td>\n",
       "      <td>2</td>\n",
       "    </tr>\n",
       "    <tr>\n",
       "      <th>Итого</th>\n",
       "      <td>54</td>\n",
       "      <td>45</td>\n",
       "      <td>1</td>\n",
       "      <td>16</td>\n",
       "      <td>2</td>\n",
       "      <td>3</td>\n",
       "      <td>16</td>\n",
       "      <td>14</td>\n",
       "      <td>14</td>\n",
       "      <td>71</td>\n",
       "      <td>29</td>\n",
       "    </tr>\n",
       "  </tbody>\n",
       "</table>\n",
       "</div>"
      ],
      "text/plain": [
       "                             Дети-сироты  Инвалиды  Соц. стипендия малоимущие  \\\n",
       "Файл                                                                            \n",
       "Железнодорожного транспорта            9        10                          1   \n",
       "Энергоснабжения                       13        10                          0   \n",
       "Металлообработки                      29        22                          0   \n",
       "Хоринский филиал                       3         3                          0   \n",
       "Итого                                 54        45                          1   \n",
       "\n",
       "                             Соц. стипендия дети-сироты  \\\n",
       "Файл                                                      \n",
       "Железнодорожного транспорта                           3   \n",
       "Энергоснабжения                                       4   \n",
       "Металлообработки                                      8   \n",
       "Хоринский филиал                                      1   \n",
       "Итого                                                16   \n",
       "\n",
       "                             Соц. стипендия инвалиды  Питание малоимущие  \\\n",
       "Файл                                                                       \n",
       "Железнодорожного транспорта                        1                   1   \n",
       "Энергоснабжения                                    0                   0   \n",
       "Металлообработки                                   0                   0   \n",
       "Хоринский филиал                                   1                   2   \n",
       "Итого                                              2                   3   \n",
       "\n",
       "                             Питание сироты  Питание инвалиды  Питание СВО  \\\n",
       "Файл                                                                         \n",
       "Железнодорожного транспорта               3                 3            2   \n",
       "Энергоснабжения                           4                 3            3   \n",
       "Металлообработки                          8                 7            7   \n",
       "Хоринский филиал                          1                 1            2   \n",
       "Итого                                    16                14           14   \n",
       "\n",
       "                             Общежитие Всего  Общежитие сироты  \n",
       "Файл                                                            \n",
       "Железнодорожного транспорта               12                 5  \n",
       "Энергоснабжения                           17                 7  \n",
       "Металлообработки                          37                15  \n",
       "Хоринский филиал                           5                 2  \n",
       "Итого                                     71                29  "
      ]
     },
     "execution_count": 1560,
     "metadata": {},
     "output_type": "execute_result"
    }
   ],
   "source": [
    "group_main_df"
   ]
  },
  {
   "cell_type": "code",
   "execution_count": 1561,
   "id": "349c1886",
   "metadata": {},
   "outputs": [],
   "source": [
    "group_orphans_main_df = pd.DataFrame(index=list(df['Файл'].unique())) # Базовый датафрейм для сирот\n"
   ]
  },
  {
   "cell_type": "code",
   "execution_count": 1562,
   "id": "dac94507",
   "metadata": {},
   "outputs": [],
   "source": [
    "# Считаем общее количество\n",
    "all_orphans_group_df = orphans_df.groupby(by=['Файл']).agg({'Статус_Сиротство':'count'}) # создаем базовый \n",
    "group_orphans_main_df = group_orphans_main_df.join(all_orphans_group_df) # добавляем в свод\n",
    "group_orphans_main_df.rename(columns={'Статус_Сиротство':'Всего'},inplace=True)"
   ]
  },
  {
   "cell_type": "code",
   "execution_count": 1563,
   "id": "11eda73c",
   "metadata": {},
   "outputs": [],
   "source": [
    "# считаем академ\n",
    "akadem_orphans_df = orphans_df[orphans_df['Статус_учёба'].str.contains('Академический отпуск')]\n",
    "dct_name_sheet['Сироты академ'] = akadem_orphans_df\n",
    "akadem_orphans_group_df = akadem_orphans_df.groupby(by=['Файл']).agg({'Статус_Сиротство':'count'})\n",
    "group_orphans_main_df = group_orphans_main_df.join(akadem_orphans_group_df) # добавляем в свод\n",
    "group_orphans_main_df.rename(columns={'Статус_Сиротство':'Из них в академическом отпуске'},inplace=True)"
   ]
  },
  {
   "cell_type": "code",
   "execution_count": 1564,
   "id": "b33dd3bb",
   "metadata": {},
   "outputs": [],
   "source": [
    "# считаем постинтернатное сопровождение\n",
    "postinternat_orphans_df = orphans_df[orphans_df['Статус_Сиротство'].str.contains('постинтернатное сопровождение')]\n",
    "dct_name_sheet['Сироты постинтернат'] = postinternat_orphans_df\n",
    "postinternat_orphans_group_df = postinternat_orphans_df.groupby(by=['Файл']).agg({'Статус_Сиротство':'count'})\n",
    "group_orphans_main_df = group_orphans_main_df.join(postinternat_orphans_group_df) # добавляем в свод\n",
    "group_orphans_main_df.rename(columns={'Статус_Сиротство':'Из них постинтернат'},inplace=True)"
   ]
  },
  {
   "cell_type": "code",
   "execution_count": 1565,
   "id": "e69977a0",
   "metadata": {},
   "outputs": [
    {
     "name": "stdout",
     "output_type": "stream",
     "text": [
      "(54, 53)\n",
      "(41, 53)\n"
     ]
    }
   ],
   "source": [
    "# считаем сирот на гособеспечении\n",
    "print(orphans_df.shape)\n",
    "gos_orphans_df = orphans_df[orphans_df['Статус_Сиротство'].isin(['гособеспечение + постинтернатное сопровождение','дети-сироты, находящиеся на полном государственном обеспечении'\n",
    "                                                     ])]\n",
    "print(gos_orphans_df.shape)\n",
    "dct_name_sheet['Сироты гособеспечение'] = gos_orphans_df\n",
    "gos_orphans_group_df = gos_orphans_df.groupby(by=['Файл']).agg({'Статус_Сиротство':'count'})\n",
    "group_orphans_main_df = group_orphans_main_df.join(gos_orphans_group_df) # добавляем в свод\n",
    "group_orphans_main_df.rename(columns={'Статус_Сиротство':'Из них на гособеспечении'},inplace=True)"
   ]
  },
  {
   "cell_type": "code",
   "execution_count": 1566,
   "id": "b91f0edc",
   "metadata": {},
   "outputs": [
    {
     "name": "stdout",
     "output_type": "stream",
     "text": [
      "(54, 53)\n",
      "(13, 53)\n"
     ]
    }
   ],
   "source": [
    "# считаем сирот с опекой\n",
    "print(orphans_df.shape)\n",
    "custody_orphans_df = orphans_df[orphans_df['Статус_Сиротство'].isin(['дети-сироты, находящиеся под опекой'])]\n",
    "print(custody_orphans_df.shape)\n",
    "dct_name_sheet['Сироты опека'] = custody_orphans_df\n",
    "custody_orphans_group_df = custody_orphans_df.groupby(by=['Файл']).agg({'Статус_Сиротство':'count'})\n",
    "group_orphans_main_df = group_orphans_main_df.join(custody_orphans_group_df) # добавляем в свод\n",
    "group_orphans_main_df.rename(columns={'Статус_Сиротство':'Из них под опекой'},inplace=True)"
   ]
  },
  {
   "cell_type": "code",
   "execution_count": 1567,
   "id": "b24e8e50",
   "metadata": {},
   "outputs": [
    {
     "name": "stdout",
     "output_type": "stream",
     "text": [
      "(54, 53)\n",
      "(17, 53)\n"
     ]
    }
   ],
   "source": [
    "# считаем сирот получающих питание\n",
    "print(orphans_df.shape)\n",
    "all_eating_orphans_df = orphans_df[orphans_df['Статус_питание'].isin(['питается в БРИТ','получает компенсацию за питание',\n",
    "                                                                     'получает компенсацию за питание + питается в БРИТ'])]\n",
    "print(all_eating_orphans_df.shape)\n",
    "dct_name_sheet['Сироты питание все'] = all_eating_orphans_df\n",
    "all_eating_orphans_group_df = all_eating_orphans_df.groupby(by=['Файл']).agg({'Статус_Сиротство':'count'})\n",
    "group_orphans_main_df = group_orphans_main_df.join(all_eating_orphans_group_df) # добавляем в свод\n",
    "group_orphans_main_df.rename(columns={'Статус_Сиротство':'Питается всего'},inplace=True)"
   ]
  },
  {
   "cell_type": "code",
   "execution_count": 1568,
   "id": "75d04ef7",
   "metadata": {},
   "outputs": [
    {
     "name": "stdout",
     "output_type": "stream",
     "text": [
      "(54, 53)\n",
      "(1, 53)\n"
     ]
    }
   ],
   "source": [
    "# считаем сирот получающих питание в брит\n",
    "print(orphans_df.shape)\n",
    "brit_eating_orphans_df = orphans_df[orphans_df['Статус_питание'].isin(['питается в БРИТ'])]\n",
    "print(brit_eating_orphans_df.shape)\n",
    "dct_name_sheet['Сироты питание БРИТ'] = brit_eating_orphans_df\n",
    "brit_eating_orphans_group_df = brit_eating_orphans_df.groupby(by=['Файл']).agg({'Статус_Сиротство':'count'})\n",
    "group_orphans_main_df = group_orphans_main_df.join(brit_eating_orphans_group_df) # добавляем в свод\n",
    "group_orphans_main_df.rename(columns={'Статус_Сиротство':'Питается в БРИТ'},inplace=True)"
   ]
  },
  {
   "cell_type": "code",
   "execution_count": 1569,
   "id": "74afc81b",
   "metadata": {},
   "outputs": [
    {
     "name": "stdout",
     "output_type": "stream",
     "text": [
      "(54, 53)\n",
      "(15, 53)\n"
     ]
    }
   ],
   "source": [
    "# считаем сирот получающих компенсацию\n",
    "print(orphans_df.shape)\n",
    "compens_eating_orphans_df = orphans_df[orphans_df['Статус_питание'].isin(['получает компенсацию за питание'])]\n",
    "print(compens_eating_orphans_df.shape)\n",
    "dct_name_sheet['Сироты питание компенсация'] = compens_eating_orphans_df\n",
    "compens_eating_orphans_group_df = compens_eating_orphans_df.groupby(by=['Файл']).agg({'Статус_Сиротство':'count'})\n",
    "group_orphans_main_df = group_orphans_main_df.join(compens_eating_orphans_group_df) # добавляем в свод\n",
    "group_orphans_main_df.rename(columns={'Статус_Сиротство':'Получает компенсацию'},inplace=True)"
   ]
  },
  {
   "cell_type": "code",
   "execution_count": 1570,
   "id": "d34008bc",
   "metadata": {},
   "outputs": [
    {
     "name": "stdout",
     "output_type": "stream",
     "text": [
      "(54, 53)\n",
      "(1, 53)\n"
     ]
    }
   ],
   "source": [
    "# считаем сирот получающих компенсацию + питание в брит\n",
    "print(orphans_df.shape)\n",
    "brit_compens_eating_orphans_df = orphans_df[orphans_df['Статус_питание'].isin(['получает компенсацию за питание + питается в БРИТ'])]\n",
    "print(brit_compens_eating_orphans_df.shape)\n",
    "dct_name_sheet['Сироты питание БРИТ+компенсация'] = brit_compens_eating_orphans_df\n",
    "brit_compens_eating_orphans_group_df = brit_compens_eating_orphans_df.groupby(by=['Файл']).agg({'Статус_Сиротство':'count'})\n",
    "group_orphans_main_df = group_orphans_main_df.join(brit_compens_eating_orphans_group_df) # добавляем в свод\n",
    "group_orphans_main_df.rename(columns={'Статус_Сиротство':'БРИТ+компенсация'},inplace=True)"
   ]
  },
  {
   "cell_type": "code",
   "execution_count": null,
   "id": "a3e3ae5e",
   "metadata": {},
   "outputs": [],
   "source": []
  },
  {
   "cell_type": "code",
   "execution_count": 1571,
   "id": "03c60d12",
   "metadata": {},
   "outputs": [
    {
     "data": {
      "text/html": [
       "<div>\n",
       "<style scoped>\n",
       "    .dataframe tbody tr th:only-of-type {\n",
       "        vertical-align: middle;\n",
       "    }\n",
       "\n",
       "    .dataframe tbody tr th {\n",
       "        vertical-align: top;\n",
       "    }\n",
       "\n",
       "    .dataframe thead th {\n",
       "        text-align: right;\n",
       "    }\n",
       "</style>\n",
       "<table border=\"1\" class=\"dataframe\">\n",
       "  <thead>\n",
       "    <tr style=\"text-align: right;\">\n",
       "      <th></th>\n",
       "      <th>Всего</th>\n",
       "      <th>Из них в академическом отпуске</th>\n",
       "      <th>Из них постинтернат</th>\n",
       "      <th>Из них на гособеспечении</th>\n",
       "      <th>Из них под опекой</th>\n",
       "      <th>Питается всего</th>\n",
       "      <th>Питается в БРИТ</th>\n",
       "      <th>Получает компенсацию</th>\n",
       "      <th>БРИТ+компенсация</th>\n",
       "    </tr>\n",
       "  </thead>\n",
       "  <tbody>\n",
       "    <tr>\n",
       "      <th>Железнодорожного транспорта</th>\n",
       "      <td>9</td>\n",
       "      <td>2</td>\n",
       "      <td>4</td>\n",
       "      <td>7</td>\n",
       "      <td>2</td>\n",
       "      <td>3</td>\n",
       "      <td>NaN</td>\n",
       "      <td>3.0</td>\n",
       "      <td>NaN</td>\n",
       "    </tr>\n",
       "    <tr>\n",
       "      <th>Энергоснабжения</th>\n",
       "      <td>13</td>\n",
       "      <td>3</td>\n",
       "      <td>6</td>\n",
       "      <td>10</td>\n",
       "      <td>3</td>\n",
       "      <td>4</td>\n",
       "      <td>NaN</td>\n",
       "      <td>4.0</td>\n",
       "      <td>NaN</td>\n",
       "    </tr>\n",
       "    <tr>\n",
       "      <th>Металлообработки</th>\n",
       "      <td>29</td>\n",
       "      <td>7</td>\n",
       "      <td>14</td>\n",
       "      <td>22</td>\n",
       "      <td>7</td>\n",
       "      <td>8</td>\n",
       "      <td>NaN</td>\n",
       "      <td>8.0</td>\n",
       "      <td>NaN</td>\n",
       "    </tr>\n",
       "    <tr>\n",
       "      <th>Хоринский филиал</th>\n",
       "      <td>3</td>\n",
       "      <td>2</td>\n",
       "      <td>2</td>\n",
       "      <td>2</td>\n",
       "      <td>1</td>\n",
       "      <td>2</td>\n",
       "      <td>1.0</td>\n",
       "      <td>NaN</td>\n",
       "      <td>1.0</td>\n",
       "    </tr>\n",
       "  </tbody>\n",
       "</table>\n",
       "</div>"
      ],
      "text/plain": [
       "                             Всего  Из них в академическом отпуске  \\\n",
       "Железнодорожного транспорта      9                               2   \n",
       "Энергоснабжения                 13                               3   \n",
       "Металлообработки                29                               7   \n",
       "Хоринский филиал                 3                               2   \n",
       "\n",
       "                             Из них постинтернат  Из них на гособеспечении  \\\n",
       "Железнодорожного транспорта                    4                         7   \n",
       "Энергоснабжения                                6                        10   \n",
       "Металлообработки                              14                        22   \n",
       "Хоринский филиал                               2                         2   \n",
       "\n",
       "                             Из них под опекой  Питается всего  \\\n",
       "Железнодорожного транспорта                  2               3   \n",
       "Энергоснабжения                              3               4   \n",
       "Металлообработки                             7               8   \n",
       "Хоринский филиал                             1               2   \n",
       "\n",
       "                             Питается в БРИТ  Получает компенсацию  \\\n",
       "Железнодорожного транспорта              NaN                   3.0   \n",
       "Энергоснабжения                          NaN                   4.0   \n",
       "Металлообработки                         NaN                   8.0   \n",
       "Хоринский филиал                         1.0                   NaN   \n",
       "\n",
       "                             БРИТ+компенсация  \n",
       "Железнодорожного транспорта               NaN  \n",
       "Энергоснабжения                           NaN  \n",
       "Металлообработки                          NaN  \n",
       "Хоринский филиал                          1.0  "
      ]
     },
     "execution_count": 1571,
     "metadata": {},
     "output_type": "execute_result"
    }
   ],
   "source": [
    "group_orphans_main_df"
   ]
  },
  {
   "cell_type": "code",
   "execution_count": null,
   "id": "c2611b54",
   "metadata": {},
   "outputs": [],
   "source": []
  },
  {
   "cell_type": "code",
   "execution_count": null,
   "id": "2f10bf78",
   "metadata": {},
   "outputs": [],
   "source": []
  },
  {
   "cell_type": "code",
   "execution_count": null,
   "id": "57eaa2dc",
   "metadata": {},
   "outputs": [],
   "source": []
  },
  {
   "cell_type": "code",
   "execution_count": null,
   "id": "255fac93",
   "metadata": {},
   "outputs": [],
   "source": []
  },
  {
   "cell_type": "code",
   "execution_count": null,
   "id": "dfd28b55",
   "metadata": {},
   "outputs": [],
   "source": []
  },
  {
   "cell_type": "code",
   "execution_count": null,
   "id": "18b9f921",
   "metadata": {},
   "outputs": [],
   "source": []
  },
  {
   "cell_type": "code",
   "execution_count": null,
   "id": "82cc9b33",
   "metadata": {},
   "outputs": [],
   "source": []
  },
  {
   "cell_type": "code",
   "execution_count": null,
   "id": "a6793fa4",
   "metadata": {},
   "outputs": [],
   "source": []
  },
  {
   "cell_type": "code",
   "execution_count": null,
   "id": "3aa62da7",
   "metadata": {},
   "outputs": [],
   "source": []
  },
  {
   "cell_type": "code",
   "execution_count": null,
   "id": "f47882bb",
   "metadata": {},
   "outputs": [],
   "source": []
  },
  {
   "cell_type": "code",
   "execution_count": null,
   "id": "94e66326",
   "metadata": {},
   "outputs": [],
   "source": []
  },
  {
   "cell_type": "code",
   "execution_count": null,
   "id": "1953b59f",
   "metadata": {},
   "outputs": [],
   "source": []
  },
  {
   "cell_type": "code",
   "execution_count": null,
   "id": "365252b9",
   "metadata": {},
   "outputs": [],
   "source": []
  }
 ],
 "metadata": {
  "kernelspec": {
   "display_name": "Python 3 (ipykernel)",
   "language": "python",
   "name": "python3"
  },
  "language_info": {
   "codemirror_mode": {
    "name": "ipython",
    "version": 3
   },
   "file_extension": ".py",
   "mimetype": "text/x-python",
   "name": "python",
   "nbconvert_exporter": "python",
   "pygments_lexer": "ipython3",
   "version": "3.9.13"
  }
 },
 "nbformat": 4,
 "nbformat_minor": 5
}
